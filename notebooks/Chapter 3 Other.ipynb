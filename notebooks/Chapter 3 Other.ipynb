{
 "cells": [
  {
   "cell_type": "markdown",
   "id": "5223f819-bec1-4be6-b992-f796734bdc8f",
   "metadata": {},
   "source": [
    "Chapter 3 Other\n",
    "\n",
    "In this problem we will investigate the t-statistic for the null hypoth- esis H0 : β = 0 in simple linear regression without an intercept. To begin, we generate a predictor x and a response y as follows.\n",
    "\n",
    "(a) Perform a simple linear regression of y onto x, without an in- tercept. Report the coefficient estimate βˆ, the standard error of this coefficient estimate, and the t-statistic and p-value associ- ated with the null hypothesis H0 : β = 0. Comment on these results. (You can perform regression without an intercept using the keywords argument intercept=False to ModelSpec().)\n",
    "  rng = np.random.default_rng(1)\n",
    "x = rng.normal(size=100)\n",
    "y = 2 * x + rng.normal(size=100)\n",
    "   \n",
    "\n",
    "(b) Now perform a simple linear regression of x onto y without an intercept, and report the coefficient estimate, its standard error, and the corresponding t-statistic and p-values associated with the null hypothesis H0 : β = 0. Comment on these results.\n",
    "\n",
    "(c) What is the relationship between the results obtained in (a) and (b)?\n",
    "\n",
    "(d) For the regression of Y onto X without an intercept, the t- statistic for H0 : β = 0 takes the form βˆ/SE(βˆ), where βˆ is given by (3.38), and where\n",
    "ˆ 􏰞􏰎ni=1(yi −xiβˆ)2 SE(β)= (n−1)􏰎n x2 .\n",
    "i′=1 i′\n",
    "(These formulas are slightly different from those given in Sec- tions 3.1.1 and 3.1.2, since here we are performing regression without an intercept.) Show algebraically, and confirm numeri- cally in R, that the t-statistic can be written as\n",
    "   (√n − 1) 􏰎ni=1 xiyi\n",
    "􏰔(􏰎n x2)(􏰎n y2 ) − (􏰎n xi′ yi′ )2 .\n",
    "\n",
    "(e) Using the results from (d), argue that the t-statistic for the re- gression of y onto x is the same as the t-statistic for the regression of x onto y.\n",
    "\n",
    "(f) In R, show that when regression is performed with an intercept, the t-statistic for H0 : β1 = 0 is the same for the regression of y onto x as it is for the regression of x onto y.\n"
   ]
  },
  {
   "cell_type": "code",
   "execution_count": 16,
   "id": "e9a0602b-8ab5-486a-8360-d391bdccda30",
   "metadata": {
    "execution": {
     "iopub.execute_input": "2024-06-10T16:20:14.165329Z",
     "iopub.status.busy": "2024-06-10T16:20:14.164986Z",
     "iopub.status.idle": "2024-06-10T16:20:14.375745Z",
     "shell.execute_reply": "2024-06-10T16:20:14.374704Z",
     "shell.execute_reply.started": "2024-06-10T16:20:14.165308Z"
    }
   },
   "outputs": [],
   "source": [
    "import pandas as pd\n",
    "import numpy as np \n",
    "import statsmodels.api as sm\n",
    "from ISLP.models import ModelSpec as MS\n"
   ]
  },
  {
   "cell_type": "markdown",
   "id": "5a12cc81-cc1d-4ae7-85a4-6d6caac750f2",
   "metadata": {},
   "source": [
    "(a) Perform a simple linear regression of y onto x, without an intercept. Report the coefficient estimate βˆ, the standard error of this coefficient estimate, and the t-statistic and p-value associated with the null hypothesis H0 : β = 0. Comment on these results. (You can perform regression without an intercept using the keywords argument intercept=False to ModelSpec().)"
   ]
  },
  {
   "cell_type": "code",
   "execution_count": 10,
   "id": "20c9fa28-c659-46c3-9f25-583c05ffe5cc",
   "metadata": {
    "execution": {
     "iopub.execute_input": "2024-06-10T16:04:32.122917Z",
     "iopub.status.busy": "2024-06-10T16:04:32.122540Z",
     "iopub.status.idle": "2024-06-10T16:04:32.127423Z",
     "shell.execute_reply": "2024-06-10T16:04:32.126438Z",
     "shell.execute_reply.started": "2024-06-10T16:04:32.122894Z"
    }
   },
   "outputs": [],
   "source": [
    "rng = np.random.default_rng(1)\n",
    "x = rng.normal(size=100)\n",
    "y = 2 * x + rng.normal(size=100)"
   ]
  },
  {
   "cell_type": "code",
   "execution_count": 11,
   "id": "ae29a8c5-7295-475e-8a26-20b61ff99e70",
   "metadata": {
    "execution": {
     "iopub.execute_input": "2024-06-10T16:04:32.626971Z",
     "iopub.status.busy": "2024-06-10T16:04:32.626644Z",
     "iopub.status.idle": "2024-06-10T16:04:32.640241Z",
     "shell.execute_reply": "2024-06-10T16:04:32.639505Z",
     "shell.execute_reply.started": "2024-06-10T16:04:32.626950Z"
    }
   },
   "outputs": [
    {
     "name": "stdout",
     "output_type": "stream",
     "text": [
      "                                 OLS Regression Results                                \n",
      "=======================================================================================\n",
      "Dep. Variable:                      y   R-squared (uncentered):                   0.743\n",
      "Model:                            OLS   Adj. R-squared (uncentered):              0.740\n",
      "Method:                 Least Squares   F-statistic:                              285.6\n",
      "Date:                Mon, 10 Jun 2024   Prob (F-statistic):                    6.23e-31\n",
      "Time:                        18:04:32   Log-Likelihood:                         -141.35\n",
      "No. Observations:                 100   AIC:                                      284.7\n",
      "Df Residuals:                      99   BIC:                                      287.3\n",
      "Df Model:                           1                                                  \n",
      "Covariance Type:            nonrobust                                                  \n",
      "==============================================================================\n",
      "                 coef    std err          t      P>|t|      [0.025      0.975]\n",
      "------------------------------------------------------------------------------\n",
      "x1             1.9762      0.117     16.898      0.000       1.744       2.208\n",
      "==============================================================================\n",
      "Omnibus:                        1.376   Durbin-Watson:                   2.184\n",
      "Prob(Omnibus):                  0.503   Jarque-Bera (JB):                0.847\n",
      "Skew:                           0.121   Prob(JB):                        0.655\n",
      "Kurtosis:                       3.381   Cond. No.                         1.00\n",
      "==============================================================================\n",
      "\n",
      "Notes:\n",
      "[1] R² is computed without centering (uncentered) since the model does not contain a constant.\n",
      "[2] Standard Errors assume that the covariance matrix of the errors is correctly specified.\n"
     ]
    }
   ],
   "source": [
    "model = sm.OLS(y, x)\n",
    "results = model.fit()\n",
    "\n",
    "print(results.summary())"
   ]
  },
  {
   "cell_type": "markdown",
   "id": "b187644b-5e00-4193-99da-97796164161d",
   "metadata": {
    "execution": {
     "iopub.execute_input": "2024-06-10T14:13:23.670641Z",
     "iopub.status.busy": "2024-06-10T14:13:23.669874Z",
     "iopub.status.idle": "2024-06-10T14:13:23.675678Z",
     "shell.execute_reply": "2024-06-10T14:13:23.674362Z",
     "shell.execute_reply.started": "2024-06-10T14:13:23.670617Z"
    }
   },
   "source": [
    "The coefficient x1 is 1.9762, quite close to the ideal 2 of the model. The p-value is 0, meaning that we have enough evidence to confirm that there is a relationship between x and the response, rejecting therefore the null hypothesis that states that B1 = 0"
   ]
  },
  {
   "cell_type": "markdown",
   "id": "1232bf27-2029-42ec-b4b1-afaf31923fbb",
   "metadata": {},
   "source": [
    "(b) Now perform a simple linear regression of x onto y without an intercept, and report the coefficient estimate, its standard error, and the corresponding t-statistic and p-values associated with the null hypothesis H0 : β = 0. Comment on these results."
   ]
  },
  {
   "cell_type": "code",
   "execution_count": 12,
   "id": "de35696f-738c-4543-9e83-01437e2aabec",
   "metadata": {
    "execution": {
     "iopub.execute_input": "2024-06-10T16:04:34.898686Z",
     "iopub.status.busy": "2024-06-10T16:04:34.898336Z",
     "iopub.status.idle": "2024-06-10T16:04:34.911951Z",
     "shell.execute_reply": "2024-06-10T16:04:34.911275Z",
     "shell.execute_reply.started": "2024-06-10T16:04:34.898661Z"
    }
   },
   "outputs": [
    {
     "name": "stdout",
     "output_type": "stream",
     "text": [
      "                                 OLS Regression Results                                \n",
      "=======================================================================================\n",
      "Dep. Variable:                      y   R-squared (uncentered):                   0.743\n",
      "Model:                            OLS   Adj. R-squared (uncentered):              0.740\n",
      "Method:                 Least Squares   F-statistic:                              285.6\n",
      "Date:                Mon, 10 Jun 2024   Prob (F-statistic):                    6.23e-31\n",
      "Time:                        18:04:34   Log-Likelihood:                         -58.349\n",
      "No. Observations:                 100   AIC:                                      118.7\n",
      "Df Residuals:                      99   BIC:                                      121.3\n",
      "Df Model:                           1                                                  \n",
      "Covariance Type:            nonrobust                                                  \n",
      "==============================================================================\n",
      "                 coef    std err          t      P>|t|      [0.025      0.975]\n",
      "------------------------------------------------------------------------------\n",
      "x1             0.3757      0.022     16.898      0.000       0.332       0.420\n",
      "==============================================================================\n",
      "Omnibus:                       13.156   Durbin-Watson:                   2.034\n",
      "Prob(Omnibus):                  0.001   Jarque-Bera (JB):               22.596\n",
      "Skew:                          -0.528   Prob(JB):                     1.24e-05\n",
      "Kurtosis:                       5.075   Cond. No.                         1.00\n",
      "==============================================================================\n",
      "\n",
      "Notes:\n",
      "[1] R² is computed without centering (uncentered) since the model does not contain a constant.\n",
      "[2] Standard Errors assume that the covariance matrix of the errors is correctly specified.\n"
     ]
    }
   ],
   "source": [
    "model = sm.OLS(x, y)\n",
    "results = model.fit()\n",
    "\n",
    "print(results.summary())"
   ]
  },
  {
   "cell_type": "markdown",
   "id": "c91f8e75-122d-4260-be1c-e2f9a5f5e988",
   "metadata": {
    "execution": {
     "iopub.execute_input": "2024-06-10T16:06:38.328569Z",
     "iopub.status.busy": "2024-06-10T16:06:38.327846Z",
     "iopub.status.idle": "2024-06-10T16:06:38.333143Z",
     "shell.execute_reply": "2024-06-10T16:06:38.332223Z",
     "shell.execute_reply.started": "2024-06-10T16:06:38.328544Z"
    }
   },
   "source": [
    "I would have expected something closer to 0.5 as coefficient. The p value in any case, being that small makes us reject the null hypothesis B=0."
   ]
  },
  {
   "cell_type": "markdown",
   "id": "e7168347-6e0b-4094-b132-91bb6fcab7e4",
   "metadata": {},
   "source": [
    "(c) What is the relationship between the results obtained in (a) and (b)?"
   ]
  },
  {
   "cell_type": "markdown",
   "id": "768573cc-6476-4968-9cb9-19a01f0c7894",
   "metadata": {
    "execution": {
     "iopub.execute_input": "2024-06-10T16:17:32.579330Z",
     "iopub.status.busy": "2024-06-10T16:17:32.578670Z",
     "iopub.status.idle": "2024-06-10T16:17:32.582448Z",
     "shell.execute_reply": "2024-06-10T16:17:32.581743Z",
     "shell.execute_reply.started": "2024-06-10T16:17:32.579303Z"
    }
   },
   "source": [
    "y = 2*x, so x = 0.5*y"
   ]
  },
  {
   "cell_type": "markdown",
   "id": "0e428f2f-f47e-4712-b324-626f7363f2a9",
   "metadata": {},
   "source": [
    "(f) In R, show that when regression is performed with an intercept, the t-statistic for H0 : β1 = 0 is the same for the regression of y onto x as it is for the regression of x onto y."
   ]
  },
  {
   "cell_type": "code",
   "execution_count": 22,
   "id": "0e574a18-dd08-4382-a252-d8f637138544",
   "metadata": {
    "execution": {
     "iopub.execute_input": "2024-06-10T16:24:37.527241Z",
     "iopub.status.busy": "2024-06-10T16:24:37.526628Z",
     "iopub.status.idle": "2024-06-10T16:24:37.542760Z",
     "shell.execute_reply": "2024-06-10T16:24:37.542083Z",
     "shell.execute_reply.started": "2024-06-10T16:24:37.527219Z"
    }
   },
   "outputs": [
    {
     "name": "stdout",
     "output_type": "stream",
     "text": [
      "                            OLS Regression Results                            \n",
      "==============================================================================\n",
      "Dep. Variable:                      y   R-squared:                       1.000\n",
      "Model:                            OLS   Adj. R-squared:                  1.000\n",
      "Method:                 Least Squares   F-statistic:                 4.931e+32\n",
      "Date:                Mon, 10 Jun 2024   Prob (F-statistic):               0.00\n",
      "Time:                        18:24:37   Log-Likelihood:                 3339.5\n",
      "No. Observations:                 100   AIC:                            -6675.\n",
      "Df Residuals:                      98   BIC:                            -6670.\n",
      "Df Model:                           1                                         \n",
      "Covariance Type:            nonrobust                                         \n",
      "==============================================================================\n",
      "                 coef    std err          t      P>|t|      [0.025      0.975]\n",
      "------------------------------------------------------------------------------\n",
      "intercept  -6.245e-17    7.7e-17     -0.811      0.419   -2.15e-16    9.03e-17\n",
      "x              2.0000   9.01e-17   2.22e+16      0.000       2.000       2.000\n",
      "==============================================================================\n",
      "Omnibus:                        8.484   Durbin-Watson:                   2.002\n",
      "Prob(Omnibus):                  0.014   Jarque-Bera (JB):                8.346\n",
      "Skew:                          -0.587   Prob(JB):                       0.0154\n",
      "Kurtosis:                       3.791   Cond. No.                         1.20\n",
      "==============================================================================\n",
      "\n",
      "Notes:\n",
      "[1] Standard Errors assume that the covariance matrix of the errors is correctly specified.\n"
     ]
    }
   ],
   "source": [
    "X = MS('x').fit_transform(pd.DataFrame({'x': x}))\n",
    "model3 = sm.OLS(y, X)\n",
    "results3 = model3.fit()\n",
    "\n",
    "print(results3.summary())"
   ]
  },
  {
   "cell_type": "code",
   "execution_count": 23,
   "id": "3e90d653-4140-4c04-8b13-aff72d7eb48a",
   "metadata": {
    "execution": {
     "iopub.execute_input": "2024-06-10T16:24:39.295702Z",
     "iopub.status.busy": "2024-06-10T16:24:39.295383Z",
     "iopub.status.idle": "2024-06-10T16:24:39.312107Z",
     "shell.execute_reply": "2024-06-10T16:24:39.311432Z",
     "shell.execute_reply.started": "2024-06-10T16:24:39.295680Z"
    }
   },
   "outputs": [
    {
     "name": "stdout",
     "output_type": "stream",
     "text": [
      "                            OLS Regression Results                            \n",
      "==============================================================================\n",
      "Dep. Variable:                      y   R-squared:                       1.000\n",
      "Model:                            OLS   Adj. R-squared:                  1.000\n",
      "Method:                 Least Squares   F-statistic:                 2.997e+32\n",
      "Date:                Mon, 10 Jun 2024   Prob (F-statistic):               0.00\n",
      "Time:                        18:24:39   Log-Likelihood:                 3383.9\n",
      "No. Observations:                 100   AIC:                            -6764.\n",
      "Df Residuals:                      98   BIC:                            -6759.\n",
      "Df Model:                           1                                         \n",
      "Covariance Type:            nonrobust                                         \n",
      "==============================================================================\n",
      "                 coef    std err          t      P>|t|      [0.025      0.975]\n",
      "------------------------------------------------------------------------------\n",
      "intercept  -1.735e-17   4.94e-17     -0.351      0.726   -1.15e-16    8.06e-17\n",
      "y              0.5000   2.89e-17   1.73e+16      0.000       0.500       0.500\n",
      "==============================================================================\n",
      "Omnibus:                        2.865   Durbin-Watson:                   2.102\n",
      "Prob(Omnibus):                  0.239   Jarque-Bera (JB):                2.327\n",
      "Skew:                          -0.229   Prob(JB):                        0.312\n",
      "Kurtosis:                       3.590   Cond. No.                         1.72\n",
      "==============================================================================\n",
      "\n",
      "Notes:\n",
      "[1] Standard Errors assume that the covariance matrix of the errors is correctly specified.\n"
     ]
    }
   ],
   "source": [
    "Y = MS('y').fit_transform(pd.DataFrame({'y': y}))\n",
    "model4 = sm.OLS(x, Y)\n",
    "results4 = model4.fit()\n",
    "\n",
    "print(results4.summary())"
   ]
  },
  {
   "cell_type": "markdown",
   "id": "6788637e-f627-4f89-b6a7-0ea6078be787",
   "metadata": {},
   "source": [
    "This problem involves simple linear regression without an intercept."
   ]
  },
  {
   "cell_type": "markdown",
   "id": "f8022407-9213-43f4-afe3-51978f9f2370",
   "metadata": {},
   "source": [
    "(a) Recall that the coefficient estimate βˆ for the linear regression of Y onto X without an intercept is given by (3.38). Under what circumstance is the coefficient estimate for the regression of X onto Y the same as the coefficient estimate for the regression of Y onto X?"
   ]
  },
  {
   "cell_type": "code",
   "execution_count": 25,
   "id": "560d2fd7-f31b-4d34-9dda-c8f29f8a8328",
   "metadata": {
    "execution": {
     "iopub.execute_input": "2024-06-10T19:09:59.302366Z",
     "iopub.status.busy": "2024-06-10T19:09:59.301772Z",
     "iopub.status.idle": "2024-06-10T19:09:59.325809Z",
     "shell.execute_reply": "2024-06-10T19:09:59.324995Z",
     "shell.execute_reply.started": "2024-06-10T19:09:59.302342Z"
    }
   },
   "outputs": [
    {
     "data": {
      "image/png": "[encoded data removed]",
      "text/plain": [
       "<PIL.PngImagePlugin.PngImageFile image mode=RGBA size=358x88>"
      ]
     },
     "metadata": {},
     "output_type": "display_data"
    }
   ],
   "source": [
    "from PIL import Image\n",
    "from IPython.display import display\n",
    "img = Image.open('../images/3.38.png')\n",
    "display(img)"
   ]
  },
  {
   "cell_type": "markdown",
   "id": "c9d8ca07-eb49-4580-b4b7-19a4d8d4cb7b",
   "metadata": {},
   "source": [
    "The coefficient estimate for the regression of X onto Y the same as the coefficient estimate for the regression of Y onto X when the denominator is the same (sum of x^2 == sum of y^2)"
   ]
  },
  {
   "cell_type": "markdown",
   "id": "49c00164-8c42-49a9-ba15-1721cd20cf60",
   "metadata": {},
   "source": [
    "(b) Generate an example in Python with n = 100 observations in which the coefficient estimate for the regression of X onto Y is different from the coefficient estimate for the regression of Y onto X."
   ]
  },
  {
   "cell_type": "code",
   "execution_count": 33,
   "id": "da330158-9aac-494b-8005-45fce69ef61e",
   "metadata": {
    "execution": {
     "iopub.execute_input": "2024-06-10T19:17:42.939118Z",
     "iopub.status.busy": "2024-06-10T19:17:42.938606Z",
     "iopub.status.idle": "2024-06-10T19:17:42.959720Z",
     "shell.execute_reply": "2024-06-10T19:17:42.958866Z",
     "shell.execute_reply.started": "2024-06-10T19:17:42.939099Z"
    }
   },
   "outputs": [
    {
     "name": "stdout",
     "output_type": "stream",
     "text": [
      "                                 OLS Regression Results                                \n",
      "=======================================================================================\n",
      "Dep. Variable:                      y   R-squared (uncentered):                   1.000\n",
      "Model:                            OLS   Adj. R-squared (uncentered):              1.000\n",
      "Method:                 Least Squares   F-statistic:                          3.638e+33\n",
      "Date:                Mon, 10 Jun 2024   Prob (F-statistic):                        0.00\n",
      "Time:                        21:17:42   Log-Likelihood:                          3155.7\n",
      "No. Observations:                 100   AIC:                                     -6309.\n",
      "Df Residuals:                      99   BIC:                                     -6307.\n",
      "Df Model:                           1                                                  \n",
      "Covariance Type:            nonrobust                                                  \n",
      "==============================================================================\n",
      "                 coef    std err          t      P>|t|      [0.025      0.975]\n",
      "------------------------------------------------------------------------------\n",
      "x1             0.5000   8.29e-18   6.03e+16      0.000       0.500       0.500\n",
      "==============================================================================\n",
      "Omnibus:                      135.702   Durbin-Watson:                   0.007\n",
      "Prob(Omnibus):                  0.000   Jarque-Bera (JB):                8.803\n",
      "Skew:                           0.072   Prob(JB):                       0.0123\n",
      "Kurtosis:                       1.554   Cond. No.                         1.00\n",
      "==============================================================================\n",
      "\n",
      "Notes:\n",
      "[1] R² is computed without centering (uncentered) since the model does not contain a constant.\n",
      "[2] Standard Errors assume that the covariance matrix of the errors is correctly specified.\n",
      "                                 OLS Regression Results                                \n",
      "=======================================================================================\n",
      "Dep. Variable:                      y   R-squared (uncentered):                   1.000\n",
      "Model:                            OLS   Adj. R-squared (uncentered):              1.000\n",
      "Method:                 Least Squares   F-statistic:                          3.638e+33\n",
      "Date:                Mon, 10 Jun 2024   Prob (F-statistic):                        0.00\n",
      "Time:                        21:17:42   Log-Likelihood:                          3086.4\n",
      "No. Observations:                 100   AIC:                                     -6171.\n",
      "Df Residuals:                      99   BIC:                                     -6168.\n",
      "Df Model:                           1                                                  \n",
      "Covariance Type:            nonrobust                                                  \n",
      "==============================================================================\n",
      "                 coef    std err          t      P>|t|      [0.025      0.975]\n",
      "------------------------------------------------------------------------------\n",
      "x1             2.0000   3.32e-17   6.03e+16      0.000       2.000       2.000\n",
      "==============================================================================\n",
      "Omnibus:                      135.702   Durbin-Watson:                   0.007\n",
      "Prob(Omnibus):                  0.000   Jarque-Bera (JB):                8.803\n",
      "Skew:                           0.072   Prob(JB):                       0.0123\n",
      "Kurtosis:                       1.554   Cond. No.                         1.00\n",
      "==============================================================================\n",
      "\n",
      "Notes:\n",
      "[1] R² is computed without centering (uncentered) since the model does not contain a constant.\n",
      "[2] Standard Errors assume that the covariance matrix of the errors is correctly specified.\n"
     ]
    }
   ],
   "source": [
    "x = np.linspace(0, 100.0, 100)\n",
    "y = np.linspace(0, 50.0, 100)\n",
    "\n",
    "model1 = sm.OLS(y, x)\n",
    "results1 = model1.fit()\n",
    "\n",
    "model2 = sm.OLS(x, y)\n",
    "results2 = model2.fit()\n",
    "\n",
    "print(results1.summary())\n",
    "print(results2.summary())"
   ]
  },
  {
   "cell_type": "code",
   "execution_count": 35,
   "id": "bf9d5396-e83f-47fe-a13e-be9ff8ef69a6",
   "metadata": {
    "execution": {
     "iopub.execute_input": "2024-06-10T19:18:38.856271Z",
     "iopub.status.busy": "2024-06-10T19:18:38.855548Z",
     "iopub.status.idle": "2024-06-10T19:18:38.876745Z",
     "shell.execute_reply": "2024-06-10T19:18:38.876130Z",
     "shell.execute_reply.started": "2024-06-10T19:18:38.856249Z"
    }
   },
   "outputs": [
    {
     "name": "stdout",
     "output_type": "stream",
     "text": [
      "                                 OLS Regression Results                                \n",
      "=======================================================================================\n",
      "Dep. Variable:                      y   R-squared (uncentered):                   0.243\n",
      "Model:                            OLS   Adj. R-squared (uncentered):              0.235\n",
      "Method:                 Least Squares   F-statistic:                              31.70\n",
      "Date:                Mon, 10 Jun 2024   Prob (F-statistic):                    1.69e-07\n",
      "Time:                        21:18:38   Log-Likelihood:                         -533.84\n",
      "No. Observations:                 100   AIC:                                      1070.\n",
      "Df Residuals:                      99   BIC:                                      1072.\n",
      "Df Model:                           1                                                  \n",
      "Covariance Type:            nonrobust                                                  \n",
      "==============================================================================\n",
      "                 coef    std err          t      P>|t|      [0.025      0.975]\n",
      "------------------------------------------------------------------------------\n",
      "x1             0.4925      0.087      5.630      0.000       0.319       0.666\n",
      "==============================================================================\n",
      "Omnibus:                       33.630   Durbin-Watson:                   0.001\n",
      "Prob(Omnibus):                  0.000   Jarque-Bera (JB):                6.002\n",
      "Skew:                           0.000   Prob(JB):                       0.0497\n",
      "Kurtosis:                       1.800   Cond. No.                         1.00\n",
      "==============================================================================\n",
      "\n",
      "Notes:\n",
      "[1] R² is computed without centering (uncentered) since the model does not contain a constant.\n",
      "[2] Standard Errors assume that the covariance matrix of the errors is correctly specified.\n",
      "                                 OLS Regression Results                                \n",
      "=======================================================================================\n",
      "Dep. Variable:                      y   R-squared (uncentered):                   0.243\n",
      "Model:                            OLS   Adj. R-squared (uncentered):              0.235\n",
      "Method:                 Least Squares   F-statistic:                              31.70\n",
      "Date:                Mon, 10 Jun 2024   Prob (F-statistic):                    1.69e-07\n",
      "Time:                        21:18:38   Log-Likelihood:                         -533.84\n",
      "No. Observations:                 100   AIC:                                      1070.\n",
      "Df Residuals:                      99   BIC:                                      1072.\n",
      "Df Model:                           1                                                  \n",
      "Covariance Type:            nonrobust                                                  \n",
      "==============================================================================\n",
      "                 coef    std err          t      P>|t|      [0.025      0.975]\n",
      "------------------------------------------------------------------------------\n",
      "x1             0.4925      0.087      5.630      0.000       0.319       0.666\n",
      "==============================================================================\n",
      "Omnibus:                       33.630   Durbin-Watson:                   0.001\n",
      "Prob(Omnibus):                  0.000   Jarque-Bera (JB):                6.002\n",
      "Skew:                           0.000   Prob(JB):                       0.0497\n",
      "Kurtosis:                       1.800   Cond. No.                         1.00\n",
      "==============================================================================\n",
      "\n",
      "Notes:\n",
      "[1] R² is computed without centering (uncentered) since the model does not contain a constant.\n",
      "[2] Standard Errors assume that the covariance matrix of the errors is correctly specified.\n"
     ]
    }
   ],
   "source": [
    "x = np.linspace(0, 100.0, 100)\n",
    "y = np.linspace(100, 0, 100)\n",
    "\n",
    "model1 = sm.OLS(y, x)\n",
    "results1 = model1.fit()\n",
    "\n",
    "model2 = sm.OLS(x, y)\n",
    "results2 = model2.fit()\n",
    "\n",
    "print(results1.summary())\n",
    "print(results2.summary())\n"
   ]
  },
  {
   "cell_type": "markdown",
   "id": "14cddbd6-1eef-4ff9-a4f2-caca621f066e",
   "metadata": {},
   "source": [
    "(c) Generate an example in Python with n = 100 observations in which the coefficient estimate for the regression of X onto Y is the same as the coefficient estimate for the regression of Y onto X."
   ]
  },
  {
   "cell_type": "code",
   "execution_count": null,
   "id": "d9547c0f-b536-4441-a044-95160c7ef25f",
   "metadata": {},
   "outputs": [],
   "source": []
  }
 ],
 "metadata": {
  "kernelspec": {
   "display_name": "Python 3 (ipykernel)",
   "language": "python",
   "name": "python3"
  },
  "language_info": {
   "codemirror_mode": {
    "name": "ipython",
    "version": 3
   },
   "file_extension": ".py",
   "mimetype": "text/x-python",
   "name": "python",
   "nbconvert_exporter": "python",
   "pygments_lexer": "ipython3",
   "version": "3.11.9"
  }
 },
 "nbformat": 4,
 "nbformat_minor": 5
}
