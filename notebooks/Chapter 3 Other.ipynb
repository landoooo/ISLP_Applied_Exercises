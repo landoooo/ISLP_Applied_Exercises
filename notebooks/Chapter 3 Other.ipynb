{
 "cells": [
  {
   "cell_type": "markdown",
   "id": "5223f819-bec1-4be6-b992-f796734bdc8f",
   "metadata": {},
   "source": [
    "## Chapter 3 Other\n",
    "\n",
    "### Exercise 11\n",
    "In this problem we will investigate the t-statistic for the null hypoth- esis H0 : β = 0 in simple linear regression without an intercept. To begin, we generate a predictor x and a response y as follows."
   ]
  },
  {
   "cell_type": "code",
   "execution_count": 57,
   "id": "e9a0602b-8ab5-486a-8360-d391bdccda30",
   "metadata": {
    "execution": {
     "iopub.execute_input": "2024-06-10T19:59:53.438431Z",
     "iopub.status.busy": "2024-06-10T19:59:53.438130Z",
     "iopub.status.idle": "2024-06-10T19:59:53.442579Z",
     "shell.execute_reply": "2024-06-10T19:59:53.441576Z",
     "shell.execute_reply.started": "2024-06-10T19:59:53.438411Z"
    }
   },
   "outputs": [],
   "source": [
    "import pandas as pd\n",
    "import numpy as np \n",
    "import statsmodels.api as sm\n",
    "from ISLP.models import ModelSpec as MS\n",
    "from ISLP.models import poly\n"
   ]
  },
  {
   "cell_type": "markdown",
   "id": "5a12cc81-cc1d-4ae7-85a4-6d6caac750f2",
   "metadata": {},
   "source": [
    "(a) Perform a simple linear regression of y onto x, without an intercept. Report the coefficient estimate βˆ, the standard error of this coefficient estimate, and the t-statistic and p-value associated with the null hypothesis H0 : β = 0. Comment on these results. (You can perform regression without an intercept using the keywords argument intercept=False to ModelSpec().)"
   ]
  },
  {
   "cell_type": "code",
   "execution_count": 10,
   "id": "20c9fa28-c659-46c3-9f25-583c05ffe5cc",
   "metadata": {
    "execution": {
     "iopub.execute_input": "2024-06-10T16:04:32.122917Z",
     "iopub.status.busy": "2024-06-10T16:04:32.122540Z",
     "iopub.status.idle": "2024-06-10T16:04:32.127423Z",
     "shell.execute_reply": "2024-06-10T16:04:32.126438Z",
     "shell.execute_reply.started": "2024-06-10T16:04:32.122894Z"
    }
   },
   "outputs": [],
   "source": [
    "rng = np.random.default_rng(1)\n",
    "x = rng.normal(size=100)\n",
    "y = 2 * x + rng.normal(size=100)"
   ]
  },
  {
   "cell_type": "code",
   "execution_count": 11,
   "id": "ae29a8c5-7295-475e-8a26-20b61ff99e70",
   "metadata": {
    "execution": {
     "iopub.execute_input": "2024-06-10T16:04:32.626971Z",
     "iopub.status.busy": "2024-06-10T16:04:32.626644Z",
     "iopub.status.idle": "2024-06-10T16:04:32.640241Z",
     "shell.execute_reply": "2024-06-10T16:04:32.639505Z",
     "shell.execute_reply.started": "2024-06-10T16:04:32.626950Z"
    }
   },
   "outputs": [
    {
     "name": "stdout",
     "output_type": "stream",
     "text": [
      "                                 OLS Regression Results                                \n",
      "=======================================================================================\n",
      "Dep. Variable:                      y   R-squared (uncentered):                   0.743\n",
      "Model:                            OLS   Adj. R-squared (uncentered):              0.740\n",
      "Method:                 Least Squares   F-statistic:                              285.6\n",
      "Date:                Mon, 10 Jun 2024   Prob (F-statistic):                    6.23e-31\n",
      "Time:                        18:04:32   Log-Likelihood:                         -141.35\n",
      "No. Observations:                 100   AIC:                                      284.7\n",
      "Df Residuals:                      99   BIC:                                      287.3\n",
      "Df Model:                           1                                                  \n",
      "Covariance Type:            nonrobust                                                  \n",
      "==============================================================================\n",
      "                 coef    std err          t      P>|t|      [0.025      0.975]\n",
      "------------------------------------------------------------------------------\n",
      "x1             1.9762      0.117     16.898      0.000       1.744       2.208\n",
      "==============================================================================\n",
      "Omnibus:                        1.376   Durbin-Watson:                   2.184\n",
      "Prob(Omnibus):                  0.503   Jarque-Bera (JB):                0.847\n",
      "Skew:                           0.121   Prob(JB):                        0.655\n",
      "Kurtosis:                       3.381   Cond. No.                         1.00\n",
      "==============================================================================\n",
      "\n",
      "Notes:\n",
      "[1] R² is computed without centering (uncentered) since the model does not contain a constant.\n",
      "[2] Standard Errors assume that the covariance matrix of the errors is correctly specified.\n"
     ]
    }
   ],
   "source": [
    "model = sm.OLS(y, x)\n",
    "results = model.fit()\n",
    "\n",
    "print(results.summary())"
   ]
  },
  {
   "cell_type": "markdown",
   "id": "b187644b-5e00-4193-99da-97796164161d",
   "metadata": {
    "execution": {
     "iopub.execute_input": "2024-06-10T14:13:23.670641Z",
     "iopub.status.busy": "2024-06-10T14:13:23.669874Z",
     "iopub.status.idle": "2024-06-10T14:13:23.675678Z",
     "shell.execute_reply": "2024-06-10T14:13:23.674362Z",
     "shell.execute_reply.started": "2024-06-10T14:13:23.670617Z"
    }
   },
   "source": [
    "The coefficient x1 is 1.9762, quite close to the ideal 2 of the model. The p-value is 0, meaning that we have enough evidence to confirm that there is a relationship between x and the response, rejecting therefore the null hypothesis that states that B1 = 0"
   ]
  },
  {
   "cell_type": "markdown",
   "id": "1232bf27-2029-42ec-b4b1-afaf31923fbb",
   "metadata": {},
   "source": [
    "(b) Now perform a simple linear regression of x onto y without an intercept, and report the coefficient estimate, its standard error, and the corresponding t-statistic and p-values associated with the null hypothesis H0 : β = 0. Comment on these results."
   ]
  },
  {
   "cell_type": "code",
   "execution_count": 12,
   "id": "de35696f-738c-4543-9e83-01437e2aabec",
   "metadata": {
    "execution": {
     "iopub.execute_input": "2024-06-10T16:04:34.898686Z",
     "iopub.status.busy": "2024-06-10T16:04:34.898336Z",
     "iopub.status.idle": "2024-06-10T16:04:34.911951Z",
     "shell.execute_reply": "2024-06-10T16:04:34.911275Z",
     "shell.execute_reply.started": "2024-06-10T16:04:34.898661Z"
    }
   },
   "outputs": [
    {
     "name": "stdout",
     "output_type": "stream",
     "text": [
      "                                 OLS Regression Results                                \n",
      "=======================================================================================\n",
      "Dep. Variable:                      y   R-squared (uncentered):                   0.743\n",
      "Model:                            OLS   Adj. R-squared (uncentered):              0.740\n",
      "Method:                 Least Squares   F-statistic:                              285.6\n",
      "Date:                Mon, 10 Jun 2024   Prob (F-statistic):                    6.23e-31\n",
      "Time:                        18:04:34   Log-Likelihood:                         -58.349\n",
      "No. Observations:                 100   AIC:                                      118.7\n",
      "Df Residuals:                      99   BIC:                                      121.3\n",
      "Df Model:                           1                                                  \n",
      "Covariance Type:            nonrobust                                                  \n",
      "==============================================================================\n",
      "                 coef    std err          t      P>|t|      [0.025      0.975]\n",
      "------------------------------------------------------------------------------\n",
      "x1             0.3757      0.022     16.898      0.000       0.332       0.420\n",
      "==============================================================================\n",
      "Omnibus:                       13.156   Durbin-Watson:                   2.034\n",
      "Prob(Omnibus):                  0.001   Jarque-Bera (JB):               22.596\n",
      "Skew:                          -0.528   Prob(JB):                     1.24e-05\n",
      "Kurtosis:                       5.075   Cond. No.                         1.00\n",
      "==============================================================================\n",
      "\n",
      "Notes:\n",
      "[1] R² is computed without centering (uncentered) since the model does not contain a constant.\n",
      "[2] Standard Errors assume that the covariance matrix of the errors is correctly specified.\n"
     ]
    }
   ],
   "source": [
    "model = sm.OLS(x, y)\n",
    "results = model.fit()\n",
    "\n",
    "print(results.summary())"
   ]
  },
  {
   "cell_type": "markdown",
   "id": "c91f8e75-122d-4260-be1c-e2f9a5f5e988",
   "metadata": {
    "execution": {
     "iopub.execute_input": "2024-06-10T16:06:38.328569Z",
     "iopub.status.busy": "2024-06-10T16:06:38.327846Z",
     "iopub.status.idle": "2024-06-10T16:06:38.333143Z",
     "shell.execute_reply": "2024-06-10T16:06:38.332223Z",
     "shell.execute_reply.started": "2024-06-10T16:06:38.328544Z"
    }
   },
   "source": [
    "I would have expected something closer to 0.5 as coefficient. The p value in any case, being that small makes us reject the null hypothesis B=0."
   ]
  },
  {
   "cell_type": "markdown",
   "id": "e7168347-6e0b-4094-b132-91bb6fcab7e4",
   "metadata": {},
   "source": [
    "(c) What is the relationship between the results obtained in (a) and (b)?"
   ]
  },
  {
   "cell_type": "markdown",
   "id": "768573cc-6476-4968-9cb9-19a01f0c7894",
   "metadata": {
    "execution": {
     "iopub.execute_input": "2024-06-10T16:17:32.579330Z",
     "iopub.status.busy": "2024-06-10T16:17:32.578670Z",
     "iopub.status.idle": "2024-06-10T16:17:32.582448Z",
     "shell.execute_reply": "2024-06-10T16:17:32.581743Z",
     "shell.execute_reply.started": "2024-06-10T16:17:32.579303Z"
    }
   },
   "source": [
    "y = 2*x, so x = 0.5*y"
   ]
  },
  {
   "cell_type": "markdown",
   "id": "0e428f2f-f47e-4712-b324-626f7363f2a9",
   "metadata": {},
   "source": [
    "(f) In R, show that when regression is performed with an intercept, the t-statistic for H0 : β1 = 0 is the same for the regression of y onto x as it is for the regression of x onto y."
   ]
  },
  {
   "cell_type": "code",
   "execution_count": 22,
   "id": "0e574a18-dd08-4382-a252-d8f637138544",
   "metadata": {
    "execution": {
     "iopub.execute_input": "2024-06-10T16:24:37.527241Z",
     "iopub.status.busy": "2024-06-10T16:24:37.526628Z",
     "iopub.status.idle": "2024-06-10T16:24:37.542760Z",
     "shell.execute_reply": "2024-06-10T16:24:37.542083Z",
     "shell.execute_reply.started": "2024-06-10T16:24:37.527219Z"
    }
   },
   "outputs": [
    {
     "name": "stdout",
     "output_type": "stream",
     "text": [
      "                            OLS Regression Results                            \n",
      "==============================================================================\n",
      "Dep. Variable:                      y   R-squared:                       1.000\n",
      "Model:                            OLS   Adj. R-squared:                  1.000\n",
      "Method:                 Least Squares   F-statistic:                 4.931e+32\n",
      "Date:                Mon, 10 Jun 2024   Prob (F-statistic):               0.00\n",
      "Time:                        18:24:37   Log-Likelihood:                 3339.5\n",
      "No. Observations:                 100   AIC:                            -6675.\n",
      "Df Residuals:                      98   BIC:                            -6670.\n",
      "Df Model:                           1                                         \n",
      "Covariance Type:            nonrobust                                         \n",
      "==============================================================================\n",
      "                 coef    std err          t      P>|t|      [0.025      0.975]\n",
      "------------------------------------------------------------------------------\n",
      "intercept  -6.245e-17    7.7e-17     -0.811      0.419   -2.15e-16    9.03e-17\n",
      "x              2.0000   9.01e-17   2.22e+16      0.000       2.000       2.000\n",
      "==============================================================================\n",
      "Omnibus:                        8.484   Durbin-Watson:                   2.002\n",
      "Prob(Omnibus):                  0.014   Jarque-Bera (JB):                8.346\n",
      "Skew:                          -0.587   Prob(JB):                       0.0154\n",
      "Kurtosis:                       3.791   Cond. No.                         1.20\n",
      "==============================================================================\n",
      "\n",
      "Notes:\n",
      "[1] Standard Errors assume that the covariance matrix of the errors is correctly specified.\n"
     ]
    }
   ],
   "source": [
    "X = MS('x').fit_transform(pd.DataFrame({'x': x}))\n",
    "model3 = sm.OLS(y, X)\n",
    "results3 = model3.fit()\n",
    "\n",
    "print(results3.summary())"
   ]
  },
  {
   "cell_type": "code",
   "execution_count": 23,
   "id": "3e90d653-4140-4c04-8b13-aff72d7eb48a",
   "metadata": {
    "execution": {
     "iopub.execute_input": "2024-06-10T16:24:39.295702Z",
     "iopub.status.busy": "2024-06-10T16:24:39.295383Z",
     "iopub.status.idle": "2024-06-10T16:24:39.312107Z",
     "shell.execute_reply": "2024-06-10T16:24:39.311432Z",
     "shell.execute_reply.started": "2024-06-10T16:24:39.295680Z"
    }
   },
   "outputs": [
    {
     "name": "stdout",
     "output_type": "stream",
     "text": [
      "                            OLS Regression Results                            \n",
      "==============================================================================\n",
      "Dep. Variable:                      y   R-squared:                       1.000\n",
      "Model:                            OLS   Adj. R-squared:                  1.000\n",
      "Method:                 Least Squares   F-statistic:                 2.997e+32\n",
      "Date:                Mon, 10 Jun 2024   Prob (F-statistic):               0.00\n",
      "Time:                        18:24:39   Log-Likelihood:                 3383.9\n",
      "No. Observations:                 100   AIC:                            -6764.\n",
      "Df Residuals:                      98   BIC:                            -6759.\n",
      "Df Model:                           1                                         \n",
      "Covariance Type:            nonrobust                                         \n",
      "==============================================================================\n",
      "                 coef    std err          t      P>|t|      [0.025      0.975]\n",
      "------------------------------------------------------------------------------\n",
      "intercept  -1.735e-17   4.94e-17     -0.351      0.726   -1.15e-16    8.06e-17\n",
      "y              0.5000   2.89e-17   1.73e+16      0.000       0.500       0.500\n",
      "==============================================================================\n",
      "Omnibus:                        2.865   Durbin-Watson:                   2.102\n",
      "Prob(Omnibus):                  0.239   Jarque-Bera (JB):                2.327\n",
      "Skew:                          -0.229   Prob(JB):                        0.312\n",
      "Kurtosis:                       3.590   Cond. No.                         1.72\n",
      "==============================================================================\n",
      "\n",
      "Notes:\n",
      "[1] Standard Errors assume that the covariance matrix of the errors is correctly specified.\n"
     ]
    }
   ],
   "source": [
    "Y = MS('y').fit_transform(pd.DataFrame({'y': y}))\n",
    "model4 = sm.OLS(x, Y)\n",
    "results4 = model4.fit()\n",
    "\n",
    "print(results4.summary())"
   ]
  },
  {
   "cell_type": "markdown",
   "id": "6788637e-f627-4f89-b6a7-0ea6078be787",
   "metadata": {},
   "source": [
    "---\n",
    "\n",
    "### Exercise 12\n",
    "\n",
    "This problem involves simple linear regression without an intercept."
   ]
  },
  {
   "cell_type": "markdown",
   "id": "f8022407-9213-43f4-afe3-51978f9f2370",
   "metadata": {},
   "source": [
    "(a) Recall that the coefficient estimate βˆ for the linear regression of Y onto X without an intercept is given by (3.38). Under what circumstance is the coefficient estimate for the regression of X onto Y the same as the coefficient estimate for the regression of Y onto X?"
   ]
  },
  {
   "cell_type": "code",
   "execution_count": 25,
   "id": "560d2fd7-f31b-4d34-9dda-c8f29f8a8328",
   "metadata": {
    "execution": {
     "iopub.execute_input": "2024-06-10T19:09:59.302366Z",
     "iopub.status.busy": "2024-06-10T19:09:59.301772Z",
     "iopub.status.idle": "2024-06-10T19:09:59.325809Z",
     "shell.execute_reply": "2024-06-10T19:09:59.324995Z",
     "shell.execute_reply.started": "2024-06-10T19:09:59.302342Z"
    }
   },
   "outputs": [
    {
     "data": {
      "image/png": "[encoded data removed]",
      "text/plain": [
       "<PIL.PngImagePlugin.PngImageFile image mode=RGBA size=358x88>"
      ]
     },
     "metadata": {},
     "output_type": "display_data"
    }
   ],
   "source": [
    "from PIL import Image\n",
    "from IPython.display import display\n",
    "img = Image.open('../images/3.38.png')\n",
    "display(img)"
   ]
  },
  {
   "cell_type": "markdown",
   "id": "c9d8ca07-eb49-4580-b4b7-19a4d8d4cb7b",
   "metadata": {},
   "source": [
    "The coefficient estimate for the regression of X onto Y the same as the coefficient estimate for the regression of Y onto X when the denominator is the same (sum of x^2 == sum of y^2)"
   ]
  },
  {
   "cell_type": "markdown",
   "id": "49c00164-8c42-49a9-ba15-1721cd20cf60",
   "metadata": {},
   "source": [
    "(b) Generate an example in Python with n = 100 observations in which the coefficient estimate for the regression of X onto Y is different from the coefficient estimate for the regression of Y onto X."
   ]
  },
  {
   "cell_type": "code",
   "execution_count": 33,
   "id": "da330158-9aac-494b-8005-45fce69ef61e",
   "metadata": {
    "execution": {
     "iopub.execute_input": "2024-06-10T19:17:42.939118Z",
     "iopub.status.busy": "2024-06-10T19:17:42.938606Z",
     "iopub.status.idle": "2024-06-10T19:17:42.959720Z",
     "shell.execute_reply": "2024-06-10T19:17:42.958866Z",
     "shell.execute_reply.started": "2024-06-10T19:17:42.939099Z"
    }
   },
   "outputs": [
    {
     "name": "stdout",
     "output_type": "stream",
     "text": [
      "                                 OLS Regression Results                                \n",
      "=======================================================================================\n",
      "Dep. Variable:                      y   R-squared (uncentered):                   1.000\n",
      "Model:                            OLS   Adj. R-squared (uncentered):              1.000\n",
      "Method:                 Least Squares   F-statistic:                          3.638e+33\n",
      "Date:                Mon, 10 Jun 2024   Prob (F-statistic):                        0.00\n",
      "Time:                        21:17:42   Log-Likelihood:                          3155.7\n",
      "No. Observations:                 100   AIC:                                     -6309.\n",
      "Df Residuals:                      99   BIC:                                     -6307.\n",
      "Df Model:                           1                                                  \n",
      "Covariance Type:            nonrobust                                                  \n",
      "==============================================================================\n",
      "                 coef    std err          t      P>|t|      [0.025      0.975]\n",
      "------------------------------------------------------------------------------\n",
      "x1             0.5000   8.29e-18   6.03e+16      0.000       0.500       0.500\n",
      "==============================================================================\n",
      "Omnibus:                      135.702   Durbin-Watson:                   0.007\n",
      "Prob(Omnibus):                  0.000   Jarque-Bera (JB):                8.803\n",
      "Skew:                           0.072   Prob(JB):                       0.0123\n",
      "Kurtosis:                       1.554   Cond. No.                         1.00\n",
      "==============================================================================\n",
      "\n",
      "Notes:\n",
      "[1] R² is computed without centering (uncentered) since the model does not contain a constant.\n",
      "[2] Standard Errors assume that the covariance matrix of the errors is correctly specified.\n",
      "                                 OLS Regression Results                                \n",
      "=======================================================================================\n",
      "Dep. Variable:                      y   R-squared (uncentered):                   1.000\n",
      "Model:                            OLS   Adj. R-squared (uncentered):              1.000\n",
      "Method:                 Least Squares   F-statistic:                          3.638e+33\n",
      "Date:                Mon, 10 Jun 2024   Prob (F-statistic):                        0.00\n",
      "Time:                        21:17:42   Log-Likelihood:                          3086.4\n",
      "No. Observations:                 100   AIC:                                     -6171.\n",
      "Df Residuals:                      99   BIC:                                     -6168.\n",
      "Df Model:                           1                                                  \n",
      "Covariance Type:            nonrobust                                                  \n",
      "==============================================================================\n",
      "                 coef    std err          t      P>|t|      [0.025      0.975]\n",
      "------------------------------------------------------------------------------\n",
      "x1             2.0000   3.32e-17   6.03e+16      0.000       2.000       2.000\n",
      "==============================================================================\n",
      "Omnibus:                      135.702   Durbin-Watson:                   0.007\n",
      "Prob(Omnibus):                  0.000   Jarque-Bera (JB):                8.803\n",
      "Skew:                           0.072   Prob(JB):                       0.0123\n",
      "Kurtosis:                       1.554   Cond. No.                         1.00\n",
      "==============================================================================\n",
      "\n",
      "Notes:\n",
      "[1] R² is computed without centering (uncentered) since the model does not contain a constant.\n",
      "[2] Standard Errors assume that the covariance matrix of the errors is correctly specified.\n"
     ]
    }
   ],
   "source": [
    "x = np.linspace(0, 100.0, 100)\n",
    "y = np.linspace(0, 50.0, 100)\n",
    "\n",
    "model1 = sm.OLS(y, x)\n",
    "results1 = model1.fit()\n",
    "\n",
    "model2 = sm.OLS(x, y)\n",
    "results2 = model2.fit()\n",
    "\n",
    "print(results1.summary())\n",
    "print(results2.summary())"
   ]
  },
  {
   "cell_type": "code",
   "execution_count": 35,
   "id": "bf9d5396-e83f-47fe-a13e-be9ff8ef69a6",
   "metadata": {
    "execution": {
     "iopub.execute_input": "2024-06-10T19:18:38.856271Z",
     "iopub.status.busy": "2024-06-10T19:18:38.855548Z",
     "iopub.status.idle": "2024-06-10T19:18:38.876745Z",
     "shell.execute_reply": "2024-06-10T19:18:38.876130Z",
     "shell.execute_reply.started": "2024-06-10T19:18:38.856249Z"
    }
   },
   "outputs": [
    {
     "name": "stdout",
     "output_type": "stream",
     "text": [
      "                                 OLS Regression Results                                \n",
      "=======================================================================================\n",
      "Dep. Variable:                      y   R-squared (uncentered):                   0.243\n",
      "Model:                            OLS   Adj. R-squared (uncentered):              0.235\n",
      "Method:                 Least Squares   F-statistic:                              31.70\n",
      "Date:                Mon, 10 Jun 2024   Prob (F-statistic):                    1.69e-07\n",
      "Time:                        21:18:38   Log-Likelihood:                         -533.84\n",
      "No. Observations:                 100   AIC:                                      1070.\n",
      "Df Residuals:                      99   BIC:                                      1072.\n",
      "Df Model:                           1                                                  \n",
      "Covariance Type:            nonrobust                                                  \n",
      "==============================================================================\n",
      "                 coef    std err          t      P>|t|      [0.025      0.975]\n",
      "------------------------------------------------------------------------------\n",
      "x1             0.4925      0.087      5.630      0.000       0.319       0.666\n",
      "==============================================================================\n",
      "Omnibus:                       33.630   Durbin-Watson:                   0.001\n",
      "Prob(Omnibus):                  0.000   Jarque-Bera (JB):                6.002\n",
      "Skew:                           0.000   Prob(JB):                       0.0497\n",
      "Kurtosis:                       1.800   Cond. No.                         1.00\n",
      "==============================================================================\n",
      "\n",
      "Notes:\n",
      "[1] R² is computed without centering (uncentered) since the model does not contain a constant.\n",
      "[2] Standard Errors assume that the covariance matrix of the errors is correctly specified.\n",
      "                                 OLS Regression Results                                \n",
      "=======================================================================================\n",
      "Dep. Variable:                      y   R-squared (uncentered):                   0.243\n",
      "Model:                            OLS   Adj. R-squared (uncentered):              0.235\n",
      "Method:                 Least Squares   F-statistic:                              31.70\n",
      "Date:                Mon, 10 Jun 2024   Prob (F-statistic):                    1.69e-07\n",
      "Time:                        21:18:38   Log-Likelihood:                         -533.84\n",
      "No. Observations:                 100   AIC:                                      1070.\n",
      "Df Residuals:                      99   BIC:                                      1072.\n",
      "Df Model:                           1                                                  \n",
      "Covariance Type:            nonrobust                                                  \n",
      "==============================================================================\n",
      "                 coef    std err          t      P>|t|      [0.025      0.975]\n",
      "------------------------------------------------------------------------------\n",
      "x1             0.4925      0.087      5.630      0.000       0.319       0.666\n",
      "==============================================================================\n",
      "Omnibus:                       33.630   Durbin-Watson:                   0.001\n",
      "Prob(Omnibus):                  0.000   Jarque-Bera (JB):                6.002\n",
      "Skew:                           0.000   Prob(JB):                       0.0497\n",
      "Kurtosis:                       1.800   Cond. No.                         1.00\n",
      "==============================================================================\n",
      "\n",
      "Notes:\n",
      "[1] R² is computed without centering (uncentered) since the model does not contain a constant.\n",
      "[2] Standard Errors assume that the covariance matrix of the errors is correctly specified.\n"
     ]
    }
   ],
   "source": []
  },
  {
   "cell_type": "markdown",
   "id": "14cddbd6-1eef-4ff9-a4f2-caca621f066e",
   "metadata": {},
   "source": [
    "(c) Generate an example in Python with n = 100 observations in which the coefficient estimate for the regression of X onto Y is the same as the coefficient estimate for the regression of Y onto X."
   ]
  },
  {
   "cell_type": "code",
   "execution_count": 36,
   "id": "d9547c0f-b536-4441-a044-95160c7ef25f",
   "metadata": {
    "execution": {
     "iopub.execute_input": "2024-06-10T19:20:49.072811Z",
     "iopub.status.busy": "2024-06-10T19:20:49.072312Z",
     "iopub.status.idle": "2024-06-10T19:20:49.093516Z",
     "shell.execute_reply": "2024-06-10T19:20:49.092255Z",
     "shell.execute_reply.started": "2024-06-10T19:20:49.072791Z"
    }
   },
   "outputs": [
    {
     "name": "stdout",
     "output_type": "stream",
     "text": [
      "                                 OLS Regression Results                                \n",
      "=======================================================================================\n",
      "Dep. Variable:                      y   R-squared (uncentered):                   0.243\n",
      "Model:                            OLS   Adj. R-squared (uncentered):              0.235\n",
      "Method:                 Least Squares   F-statistic:                              31.70\n",
      "Date:                Mon, 10 Jun 2024   Prob (F-statistic):                    1.69e-07\n",
      "Time:                        21:20:49   Log-Likelihood:                         -533.84\n",
      "No. Observations:                 100   AIC:                                      1070.\n",
      "Df Residuals:                      99   BIC:                                      1072.\n",
      "Df Model:                           1                                                  \n",
      "Covariance Type:            nonrobust                                                  \n",
      "==============================================================================\n",
      "                 coef    std err          t      P>|t|      [0.025      0.975]\n",
      "------------------------------------------------------------------------------\n",
      "x1             0.4925      0.087      5.630      0.000       0.319       0.666\n",
      "==============================================================================\n",
      "Omnibus:                       33.630   Durbin-Watson:                   0.001\n",
      "Prob(Omnibus):                  0.000   Jarque-Bera (JB):                6.002\n",
      "Skew:                           0.000   Prob(JB):                       0.0497\n",
      "Kurtosis:                       1.800   Cond. No.                         1.00\n",
      "==============================================================================\n",
      "\n",
      "Notes:\n",
      "[1] R² is computed without centering (uncentered) since the model does not contain a constant.\n",
      "[2] Standard Errors assume that the covariance matrix of the errors is correctly specified.\n",
      "                                 OLS Regression Results                                \n",
      "=======================================================================================\n",
      "Dep. Variable:                      y   R-squared (uncentered):                   0.243\n",
      "Model:                            OLS   Adj. R-squared (uncentered):              0.235\n",
      "Method:                 Least Squares   F-statistic:                              31.70\n",
      "Date:                Mon, 10 Jun 2024   Prob (F-statistic):                    1.69e-07\n",
      "Time:                        21:20:49   Log-Likelihood:                         -533.84\n",
      "No. Observations:                 100   AIC:                                      1070.\n",
      "Df Residuals:                      99   BIC:                                      1072.\n",
      "Df Model:                           1                                                  \n",
      "Covariance Type:            nonrobust                                                  \n",
      "==============================================================================\n",
      "                 coef    std err          t      P>|t|      [0.025      0.975]\n",
      "------------------------------------------------------------------------------\n",
      "x1             0.4925      0.087      5.630      0.000       0.319       0.666\n",
      "==============================================================================\n",
      "Omnibus:                       33.630   Durbin-Watson:                   0.001\n",
      "Prob(Omnibus):                  0.000   Jarque-Bera (JB):                6.002\n",
      "Skew:                           0.000   Prob(JB):                       0.0497\n",
      "Kurtosis:                       1.800   Cond. No.                         1.00\n",
      "==============================================================================\n",
      "\n",
      "Notes:\n",
      "[1] R² is computed without centering (uncentered) since the model does not contain a constant.\n",
      "[2] Standard Errors assume that the covariance matrix of the errors is correctly specified.\n"
     ]
    }
   ],
   "source": [
    "x = np.linspace(0, 100.0, 100)\n",
    "y = np.linspace(100, 0, 100)\n",
    "\n",
    "model1 = sm.OLS(y, x)\n",
    "results1 = model1.fit()\n",
    "\n",
    "model2 = sm.OLS(x, y)\n",
    "results2 = model2.fit()\n",
    "\n",
    "print(results1.summary())\n",
    "print(results2.summary())\n"
   ]
  },
  {
   "cell_type": "markdown",
   "id": "ab928b01-0ed3-4b4f-9bc4-4502374feade",
   "metadata": {
    "execution": {
     "iopub.execute_input": "2024-06-10T19:35:17.913003Z",
     "iopub.status.busy": "2024-06-10T19:35:17.912563Z",
     "iopub.status.idle": "2024-06-10T19:35:17.918208Z",
     "shell.execute_reply": "2024-06-10T19:35:17.917037Z",
     "shell.execute_reply.started": "2024-06-10T19:35:17.912976Z"
    }
   },
   "source": [
    "--- \n",
    "\n",
    "### Exercise 13\n",
    "\n",
    "In this exercise you will create some simulated data and will fit simple linear regression models to it. Make sure to use the default random number generator with seed set to 1 prior to starting part (a) to ensure consistent results.m\n"
   ]
  },
  {
   "cell_type": "markdown",
   "id": "cd6e6bae-0e00-4cf6-9319-528da786df51",
   "metadata": {},
   "source": [
    "(a) Using the normal() method of your random number generator, create a vector, x, containing 100 observations drawn from a N(0,1) distribution. This represents a feature, X."
   ]
  },
  {
   "cell_type": "code",
   "execution_count": 66,
   "id": "27525f90-1f5f-432a-9cbe-9a5b0e482479",
   "metadata": {
    "execution": {
     "iopub.execute_input": "2024-06-10T20:02:42.994967Z",
     "iopub.status.busy": "2024-06-10T20:02:42.994646Z",
     "iopub.status.idle": "2024-06-10T20:02:42.998695Z",
     "shell.execute_reply": "2024-06-10T20:02:42.998058Z",
     "shell.execute_reply.started": "2024-06-10T20:02:42.994946Z"
    }
   },
   "outputs": [],
   "source": [
    "rng = np.random.default_rng(1)\n",
    "x = rng.normal(0, 1, 100)\n"
   ]
  },
  {
   "cell_type": "markdown",
   "id": "4ac0dfa6-9fd5-4ffb-bdb0-8fd4dd208b1a",
   "metadata": {},
   "source": [
    "(b) Using the normal() method, create a vector, eps, containing 100 observations drawn from a N(0,0.25) distribution—a normal distribution with mean zero and variance 0.25."
   ]
  },
  {
   "cell_type": "code",
   "execution_count": 75,
   "id": "80e8aeb1-f9dc-4bfc-9efc-441d0feb6cdd",
   "metadata": {
    "execution": {
     "iopub.execute_input": "2024-06-10T20:04:55.720854Z",
     "iopub.status.busy": "2024-06-10T20:04:55.720479Z",
     "iopub.status.idle": "2024-06-10T20:04:55.724292Z",
     "shell.execute_reply": "2024-06-10T20:04:55.723642Z",
     "shell.execute_reply.started": "2024-06-10T20:04:55.720821Z"
    }
   },
   "outputs": [],
   "source": [
    "eps = rng.normal(0, 0.5, 100)"
   ]
  },
  {
   "cell_type": "markdown",
   "id": "3e91e97e-760a-4782-acee-04a5a90eae7e",
   "metadata": {},
   "source": [
    "(c) Using x and eps, generate a vector y according to the model\n",
    "Y =−1+0.5X+ε. (3.39)\n",
    "What is the length of the vector y? What are the values of β0 and β1 in this linear model?"
   ]
  },
  {
   "cell_type": "code",
   "execution_count": 76,
   "id": "79b2620a-babd-4201-bf9d-8b4bd510e696",
   "metadata": {
    "execution": {
     "iopub.execute_input": "2024-06-10T20:04:57.049615Z",
     "iopub.status.busy": "2024-06-10T20:04:57.048862Z",
     "iopub.status.idle": "2024-06-10T20:04:57.054444Z",
     "shell.execute_reply": "2024-06-10T20:04:57.053655Z",
     "shell.execute_reply.started": "2024-06-10T20:04:57.049596Z"
    }
   },
   "outputs": [
    {
     "data": {
      "text/plain": [
       "100"
      ]
     },
     "execution_count": 76,
     "metadata": {},
     "output_type": "execute_result"
    }
   ],
   "source": [
    "Y = -1 + 0.5*x + eps\n",
    "len(Y)"
   ]
  },
  {
   "cell_type": "markdown",
   "id": "b1541edd-4af8-438e-ae4a-e49d2f4c0a0c",
   "metadata": {},
   "source": [
    "b0 == -1 and b1 == 0.5"
   ]
  },
  {
   "cell_type": "markdown",
   "id": "370ea317-d62e-4e41-88a7-b364d42e7044",
   "metadata": {},
   "source": [
    "(d) Create a scatterplot displaying the relationship between x and y. Comment on what you observe."
   ]
  },
  {
   "cell_type": "code",
   "execution_count": 77,
   "id": "69de335d-2fc1-4a76-b120-9403cb7e07c0",
   "metadata": {
    "execution": {
     "iopub.execute_input": "2024-06-10T20:04:58.278993Z",
     "iopub.status.busy": "2024-06-10T20:04:58.278366Z",
     "iopub.status.idle": "2024-06-10T20:04:58.518985Z",
     "shell.execute_reply": "2024-06-10T20:04:58.518294Z",
     "shell.execute_reply.started": "2024-06-10T20:04:58.278970Z"
    }
   },
   "outputs": [
    {
     "data": {
      "text/plain": [
       "<Axes: >"
      ]
     },
     "execution_count": 77,
     "metadata": {},
     "output_type": "execute_result"
    },
    {
     "data": {
      "image/png": "[encoded data removed]",
      "text/plain": [
       "<Figure size 640x480 with 1 Axes>"
      ]
     },
     "metadata": {},
     "output_type": "display_data"
    }
   ],
   "source": [
    "import seaborn as sns\n",
    "\n",
    "sns.scatterplot(x=x, y=Y)"
   ]
  },
  {
   "cell_type": "markdown",
   "id": "cb21d6ee-36aa-42b1-a43d-294046f30bd3",
   "metadata": {},
   "source": [
    "(e) Fit a least squares linear model to predict y using x. Comment on the model obtained. How do βˆ0 and βˆ1 compare to β0 and β1?"
   ]
  },
  {
   "cell_type": "code",
   "execution_count": 78,
   "id": "c9d54a0d-3766-485a-9d93-2fde358876a1",
   "metadata": {
    "execution": {
     "iopub.execute_input": "2024-06-10T20:04:59.718484Z",
     "iopub.status.busy": "2024-06-10T20:04:59.717978Z",
     "iopub.status.idle": "2024-06-10T20:04:59.733449Z",
     "shell.execute_reply": "2024-06-10T20:04:59.732500Z",
     "shell.execute_reply.started": "2024-06-10T20:04:59.718464Z"
    }
   },
   "outputs": [
    {
     "name": "stdout",
     "output_type": "stream",
     "text": [
      "                            OLS Regression Results                            \n",
      "==============================================================================\n",
      "Dep. Variable:                      y   R-squared:                       0.459\n",
      "Model:                            OLS   Adj. R-squared:                  0.453\n",
      "Method:                 Least Squares   F-statistic:                     83.08\n",
      "Date:                Mon, 10 Jun 2024   Prob (F-statistic):           1.01e-14\n",
      "Time:                        22:04:59   Log-Likelihood:                -63.481\n",
      "No. Observations:                 100   AIC:                             131.0\n",
      "Df Residuals:                      98   BIC:                             136.2\n",
      "Df Model:                           1                                         \n",
      "Covariance Type:            nonrobust                                         \n",
      "==============================================================================\n",
      "                 coef    std err          t      P>|t|      [0.025      0.975]\n",
      "------------------------------------------------------------------------------\n",
      "intercept     -1.0810      0.046    -23.353      0.000      -1.173      -0.989\n",
      "x              0.4936      0.054      9.115      0.000       0.386       0.601\n",
      "==============================================================================\n",
      "Omnibus:                        8.984   Durbin-Watson:                   2.521\n",
      "Prob(Omnibus):                  0.011   Jarque-Bera (JB):               10.078\n",
      "Skew:                           0.522   Prob(JB):                      0.00648\n",
      "Kurtosis:                       4.152   Cond. No.                         1.20\n",
      "==============================================================================\n",
      "\n",
      "Notes:\n",
      "[1] Standard Errors assume that the covariance matrix of the errors is correctly specified.\n"
     ]
    }
   ],
   "source": [
    "X = MS('x').fit_transform(pd.DataFrame({'x': x}))\n",
    "\n",
    "model = sm.OLS(Y, X)\n",
    "results = model.fit()\n",
    "\n",
    "print(results.summary())"
   ]
  },
  {
   "cell_type": "markdown",
   "id": "391b7f04-ffb1-4a52-a9f3-8e1bfb89df8b",
   "metadata": {
    "execution": {
     "iopub.execute_input": "2024-06-10T20:05:01.566385Z",
     "iopub.status.busy": "2024-06-10T20:05:01.566027Z",
     "iopub.status.idle": "2024-06-10T20:05:01.571561Z",
     "shell.execute_reply": "2024-06-10T20:05:01.570363Z",
     "shell.execute_reply.started": "2024-06-10T20:05:01.566363Z"
    }
   },
   "source": [
    "The linear model manages to find very close estimator of the original Bs."
   ]
  },
  {
   "cell_type": "markdown",
   "id": "9a734d15-87f8-4db3-ad4e-9912482d6b05",
   "metadata": {},
   "source": [
    "(f) Display the least squares line on the scatterplot obtained in (d). Draw the population regression line on the plot, in a different color. Use the legend() method of the axes to create an appropriate legend."
   ]
  },
  {
   "cell_type": "code",
   "execution_count": 81,
   "id": "4123dcb3-e711-4b40-bd2c-8075eb6a2705",
   "metadata": {
    "execution": {
     "iopub.execute_input": "2024-06-10T20:05:10.582958Z",
     "iopub.status.busy": "2024-06-10T20:05:10.582167Z",
     "iopub.status.idle": "2024-06-10T20:05:10.843523Z",
     "shell.execute_reply": "2024-06-10T20:05:10.842642Z",
     "shell.execute_reply.started": "2024-06-10T20:05:10.582933Z"
    }
   },
   "outputs": [
    {
     "data": {
      "text/plain": [
       "<Axes: ylabel='None'>"
      ]
     },
     "execution_count": 81,
     "metadata": {},
     "output_type": "execute_result"
    },
    {
     "data": {
      "image/png": "[encoded data removed]",
      "text/plain": [
       "<Figure size 640x480 with 1 Axes>"
      ]
     },
     "metadata": {},
     "output_type": "display_data"
    }
   ],
   "source": [
    "sns.scatterplot(x=x, y=Y)\n",
    "sns.scatterplot(x=x, y=results.fittedvalues)"
   ]
  },
  {
   "cell_type": "markdown",
   "id": "9a58c9be-d146-4448-86b9-e1b212f23aa8",
   "metadata": {},
   "source": [
    "(g) Now fit a polynomial regression model that predicts y using x and x2. Is there evidence that the quadratic term improves the model fit? Explain your answer."
   ]
  },
  {
   "cell_type": "code",
   "execution_count": 82,
   "id": "43227ccc-b83f-457c-8821-f8dbfdf46979",
   "metadata": {
    "execution": {
     "iopub.execute_input": "2024-06-10T20:05:13.966200Z",
     "iopub.status.busy": "2024-06-10T20:05:13.965835Z",
     "iopub.status.idle": "2024-06-10T20:05:13.985462Z",
     "shell.execute_reply": "2024-06-10T20:05:13.984667Z",
     "shell.execute_reply.started": "2024-06-10T20:05:13.966177Z"
    }
   },
   "outputs": [
    {
     "name": "stdout",
     "output_type": "stream",
     "text": [
      "                            OLS Regression Results                            \n",
      "==============================================================================\n",
      "Dep. Variable:                      y   R-squared:                       0.462\n",
      "Model:                            OLS   Adj. R-squared:                  0.445\n",
      "Method:                 Least Squares   F-statistic:                     27.51\n",
      "Date:                Mon, 10 Jun 2024   Prob (F-statistic):           6.33e-13\n",
      "Time:                        22:05:13   Log-Likelihood:                -63.161\n",
      "No. Observations:                 100   AIC:                             134.3\n",
      "Df Residuals:                      96   BIC:                             144.7\n",
      "Df Model:                           3                                         \n",
      "Covariance Type:            nonrobust                                         \n",
      "========================================================================================\n",
      "                           coef    std err          t      P>|t|      [0.025      0.975]\n",
      "----------------------------------------------------------------------------------------\n",
      "intercept               -1.1173      0.046    -24.057      0.000      -1.209      -1.025\n",
      "poly(x, degree=3)[0]     4.2034      0.464      9.050      0.000       3.281       5.125\n",
      "poly(x, degree=3)[1]     0.0413      0.464      0.089      0.929      -0.881       0.963\n",
      "poly(x, degree=3)[2]    -0.3627      0.464     -0.781      0.437      -1.285       0.559\n",
      "==============================================================================\n",
      "Omnibus:                        8.341   Durbin-Watson:                   2.520\n",
      "Prob(Omnibus):                  0.015   Jarque-Bera (JB):                8.534\n",
      "Skew:                           0.542   Prob(JB):                       0.0140\n",
      "Kurtosis:                       3.935   Cond. No.                         10.0\n",
      "==============================================================================\n",
      "\n",
      "Notes:\n",
      "[1] Standard Errors assume that the covariance matrix of the errors is correctly specified.\n"
     ]
    }
   ],
   "source": [
    "X = MS([poly('x', degree=3)]).fit_transform(pd.DataFrame({'x': x}))\n",
    "\n",
    "model = sm.OLS(Y, X)\n",
    "results = model.fit()\n",
    "\n",
    "print(results.summary())"
   ]
  },
  {
   "cell_type": "code",
   "execution_count": 83,
   "id": "a96651ca-4959-4e77-99ed-7d49385e5834",
   "metadata": {
    "execution": {
     "iopub.execute_input": "2024-06-10T20:05:14.942706Z",
     "iopub.status.busy": "2024-06-10T20:05:14.941909Z",
     "iopub.status.idle": "2024-06-10T20:05:15.204377Z",
     "shell.execute_reply": "2024-06-10T20:05:15.203545Z",
     "shell.execute_reply.started": "2024-06-10T20:05:14.942682Z"
    }
   },
   "outputs": [
    {
     "data": {
      "text/plain": [
       "<Axes: ylabel='None'>"
      ]
     },
     "execution_count": 83,
     "metadata": {},
     "output_type": "execute_result"
    },
    {
     "data": {
      "image/png": "[encoded data removed]",
      "text/plain": [
       "<Figure size 640x480 with 1 Axes>"
      ]
     },
     "metadata": {},
     "output_type": "display_data"
    }
   ],
   "source": [
    "sns.scatterplot(x=x, y=Y)\n",
    "sns.scatterplot(x=x, y=results.fittedvalues)"
   ]
  },
  {
   "cell_type": "markdown",
   "id": "48e97b0e-84ef-4a2e-b6c2-fa64bf7bb1a2",
   "metadata": {},
   "source": [
    "The model, with quadratic components just overfits the training data."
   ]
  },
  {
   "cell_type": "markdown",
   "id": "038b90f8-dd14-43ef-a73e-6cb49f0d20a0",
   "metadata": {},
   "source": [
    "(h) Repeat (a)–(f) after modifying the data generation process in such a way that there is less noise in the data. The model (3.39) should remain the same. You can do this by decreasing the variance of the normal distribution used to generate the error term ε in (b). Describe your results."
   ]
  },
  {
   "cell_type": "markdown",
   "id": "d9bda427-efcc-4c1e-9403-e957fd53a1e1",
   "metadata": {},
   "source": [
    "The error drops, the explained variability increases and the quadratic term model seems less impacted."
   ]
  },
  {
   "cell_type": "markdown",
   "id": "7b7b9557-7607-4295-be44-9485c172cb08",
   "metadata": {},
   "source": [
    "(i) Repeat (a)–(f) after modifying the data generation process in such a way that there is more noise in the data. The model (3.39) should remain the same. You can do this by increasing the variance of the normal distribution used to generate the error term ε in (b). Describe your results."
   ]
  },
  {
   "cell_type": "markdown",
   "id": "bd60deb5-f7b2-4a4a-bb83-b39a98ceb47d",
   "metadata": {},
   "source": [
    "The error rises, the explained variability decreases and the quadratic term model seems more impacted.\n"
   ]
  },
  {
   "cell_type": "markdown",
   "id": "e7e1ac6d-cda1-4ec0-a5ca-abebcad55ad3",
   "metadata": {},
   "source": [
    "(j) What are the confidence intervals for β0 and β1 based on the original data set, the noisier data set, and the less noisy data set? Comment on your results."
   ]
  },
  {
   "cell_type": "code",
   "execution_count": null,
   "id": "e165a4c0-1159-4ba4-9ba3-d004fb9a9547",
   "metadata": {},
   "outputs": [],
   "source": [
    "The confidence lintervals"
   ]
  },
  {
   "cell_type": "code",
   "execution_count": null,
   "id": "aee059d0-de07-443e-a7dd-859017a1574d",
   "metadata": {},
   "outputs": [],
   "source": []
  }
 ],
 "metadata": {
  "kernelspec": {
   "display_name": "Python 3 (ipykernel)",
   "language": "python",
   "name": "python3"
  },
  "language_info": {
   "codemirror_mode": {
    "name": "ipython",
    "version": 3
   },
   "file_extension": ".py",
   "mimetype": "text/x-python",
   "name": "python",
   "nbconvert_exporter": "python",
   "pygments_lexer": "ipython3",
   "version": "3.11.9"
  }
 },
 "nbformat": 4,
 "nbformat_minor": 5
}
