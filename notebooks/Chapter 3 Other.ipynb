{
 "cells": [
  {
   "cell_type": "markdown",
   "id": "5223f819-bec1-4be6-b992-f796734bdc8f",
   "metadata": {},
   "source": [
    "## Chapter 3 Other\n",
    "\n",
    "### Exercise 11\n",
    "In this problem we will investigate the t-statistic for the null hypoth- esis H0 : β = 0 in simple linear regression without an intercept. To begin, we generate a predictor x and a response y as follows."
   ]
  },
  {
   "cell_type": "code",
   "execution_count": 2,
   "id": "e9a0602b-8ab5-486a-8360-d391bdccda30",
   "metadata": {
    "execution": {
     "iopub.execute_input": "2024-06-11T08:29:40.350317Z",
     "iopub.status.busy": "2024-06-11T08:29:40.349777Z",
     "iopub.status.idle": "2024-06-11T08:29:42.465011Z",
     "shell.execute_reply": "2024-06-11T08:29:42.464202Z",
     "shell.execute_reply.started": "2024-06-11T08:29:40.350296Z"
    }
   },
   "outputs": [],
   "source": [
    "import pandas as pd\n",
    "import numpy as np \n",
    "import statsmodels.api as sm\n",
    "from ISLP.models import ModelSpec as MS\n",
    "from ISLP.models import poly\n"
   ]
  },
  {
   "cell_type": "markdown",
   "id": "5a12cc81-cc1d-4ae7-85a4-6d6caac750f2",
   "metadata": {},
   "source": [
    "(a) Perform a simple linear regression of y onto x, without an intercept. Report the coefficient estimate βˆ, the standard error of this coefficient estimate, and the t-statistic and p-value associated with the null hypothesis H0 : β = 0. Comment on these results. (You can perform regression without an intercept using the keywords argument intercept=False to ModelSpec().)"
   ]
  },
  {
   "cell_type": "code",
   "execution_count": 3,
   "id": "20c9fa28-c659-46c3-9f25-583c05ffe5cc",
   "metadata": {
    "execution": {
     "iopub.execute_input": "2024-06-11T08:29:42.467286Z",
     "iopub.status.busy": "2024-06-11T08:29:42.466884Z",
     "iopub.status.idle": "2024-06-11T08:29:42.474005Z",
     "shell.execute_reply": "2024-06-11T08:29:42.472276Z",
     "shell.execute_reply.started": "2024-06-11T08:29:42.467259Z"
    }
   },
   "outputs": [],
   "source": [
    "rng = np.random.default_rng(1)\n",
    "x = rng.normal(size=100)\n",
    "y = 2 * x + rng.normal(size=100)"
   ]
  },
  {
   "cell_type": "code",
   "execution_count": 4,
   "id": "ae29a8c5-7295-475e-8a26-20b61ff99e70",
   "metadata": {
    "execution": {
     "iopub.execute_input": "2024-06-11T08:29:42.488948Z",
     "iopub.status.busy": "2024-06-11T08:29:42.476858Z",
     "iopub.status.idle": "2024-06-11T08:29:42.574958Z",
     "shell.execute_reply": "2024-06-11T08:29:42.574385Z",
     "shell.execute_reply.started": "2024-06-11T08:29:42.487198Z"
    }
   },
   "outputs": [
    {
     "name": "stdout",
     "output_type": "stream",
     "text": [
      "                                 OLS Regression Results                                \n",
      "=======================================================================================\n",
      "Dep. Variable:                      y   R-squared (uncentered):                   0.743\n",
      "Model:                            OLS   Adj. R-squared (uncentered):              0.740\n",
      "Method:                 Least Squares   F-statistic:                              285.6\n",
      "Date:                Tue, 11 Jun 2024   Prob (F-statistic):                    6.23e-31\n",
      "Time:                        10:29:42   Log-Likelihood:                         -141.35\n",
      "No. Observations:                 100   AIC:                                      284.7\n",
      "Df Residuals:                      99   BIC:                                      287.3\n",
      "Df Model:                           1                                                  \n",
      "Covariance Type:            nonrobust                                                  \n",
      "==============================================================================\n",
      "                 coef    std err          t      P>|t|      [0.025      0.975]\n",
      "------------------------------------------------------------------------------\n",
      "x1             1.9762      0.117     16.898      0.000       1.744       2.208\n",
      "==============================================================================\n",
      "Omnibus:                        1.376   Durbin-Watson:                   2.184\n",
      "Prob(Omnibus):                  0.503   Jarque-Bera (JB):                0.847\n",
      "Skew:                           0.121   Prob(JB):                        0.655\n",
      "Kurtosis:                       3.381   Cond. No.                         1.00\n",
      "==============================================================================\n",
      "\n",
      "Notes:\n",
      "[1] R² is computed without centering (uncentered) since the model does not contain a constant.\n",
      "[2] Standard Errors assume that the covariance matrix of the errors is correctly specified.\n"
     ]
    }
   ],
   "source": [
    "model = sm.OLS(y, x)\n",
    "results = model.fit()\n",
    "\n",
    "print(results.summary())"
   ]
  },
  {
   "cell_type": "markdown",
   "id": "b187644b-5e00-4193-99da-97796164161d",
   "metadata": {
    "execution": {
     "iopub.execute_input": "2024-06-10T14:13:23.670641Z",
     "iopub.status.busy": "2024-06-10T14:13:23.669874Z",
     "iopub.status.idle": "2024-06-10T14:13:23.675678Z",
     "shell.execute_reply": "2024-06-10T14:13:23.674362Z",
     "shell.execute_reply.started": "2024-06-10T14:13:23.670617Z"
    }
   },
   "source": [
    "The coefficient x1 is 1.9762, quite close to the ideal 2 of the model. The p-value is 0, meaning that we have enough evidence to confirm that there is a relationship between x and the response, rejecting therefore the null hypothesis that states that B1 = 0"
   ]
  },
  {
   "cell_type": "markdown",
   "id": "1232bf27-2029-42ec-b4b1-afaf31923fbb",
   "metadata": {},
   "source": [
    "(b) Now perform a simple linear regression of x onto y without an intercept, and report the coefficient estimate, its standard error, and the corresponding t-statistic and p-values associated with the null hypothesis H0 : β = 0. Comment on these results."
   ]
  },
  {
   "cell_type": "code",
   "execution_count": 5,
   "id": "de35696f-738c-4543-9e83-01437e2aabec",
   "metadata": {
    "execution": {
     "iopub.execute_input": "2024-06-11T08:29:42.579595Z",
     "iopub.status.busy": "2024-06-11T08:29:42.579093Z",
     "iopub.status.idle": "2024-06-11T08:29:42.594813Z",
     "shell.execute_reply": "2024-06-11T08:29:42.593823Z",
     "shell.execute_reply.started": "2024-06-11T08:29:42.579567Z"
    }
   },
   "outputs": [
    {
     "name": "stdout",
     "output_type": "stream",
     "text": [
      "                                 OLS Regression Results                                \n",
      "=======================================================================================\n",
      "Dep. Variable:                      y   R-squared (uncentered):                   0.743\n",
      "Model:                            OLS   Adj. R-squared (uncentered):              0.740\n",
      "Method:                 Least Squares   F-statistic:                              285.6\n",
      "Date:                Tue, 11 Jun 2024   Prob (F-statistic):                    6.23e-31\n",
      "Time:                        10:29:42   Log-Likelihood:                         -58.349\n",
      "No. Observations:                 100   AIC:                                      118.7\n",
      "Df Residuals:                      99   BIC:                                      121.3\n",
      "Df Model:                           1                                                  \n",
      "Covariance Type:            nonrobust                                                  \n",
      "==============================================================================\n",
      "                 coef    std err          t      P>|t|      [0.025      0.975]\n",
      "------------------------------------------------------------------------------\n",
      "x1             0.3757      0.022     16.898      0.000       0.332       0.420\n",
      "==============================================================================\n",
      "Omnibus:                       13.156   Durbin-Watson:                   2.034\n",
      "Prob(Omnibus):                  0.001   Jarque-Bera (JB):               22.596\n",
      "Skew:                          -0.528   Prob(JB):                     1.24e-05\n",
      "Kurtosis:                       5.075   Cond. No.                         1.00\n",
      "==============================================================================\n",
      "\n",
      "Notes:\n",
      "[1] R² is computed without centering (uncentered) since the model does not contain a constant.\n",
      "[2] Standard Errors assume that the covariance matrix of the errors is correctly specified.\n"
     ]
    }
   ],
   "source": [
    "model = sm.OLS(x, y)\n",
    "results = model.fit()\n",
    "\n",
    "print(results.summary())"
   ]
  },
  {
   "cell_type": "markdown",
   "id": "c91f8e75-122d-4260-be1c-e2f9a5f5e988",
   "metadata": {
    "execution": {
     "iopub.execute_input": "2024-06-10T16:06:38.328569Z",
     "iopub.status.busy": "2024-06-10T16:06:38.327846Z",
     "iopub.status.idle": "2024-06-10T16:06:38.333143Z",
     "shell.execute_reply": "2024-06-10T16:06:38.332223Z",
     "shell.execute_reply.started": "2024-06-10T16:06:38.328544Z"
    }
   },
   "source": [
    "I would have expected something closer to 0.5 as coefficient. The p value in any case, being that small makes us reject the null hypothesis B=0."
   ]
  },
  {
   "cell_type": "markdown",
   "id": "e7168347-6e0b-4094-b132-91bb6fcab7e4",
   "metadata": {},
   "source": [
    "(c) What is the relationship between the results obtained in (a) and (b)?"
   ]
  },
  {
   "cell_type": "markdown",
   "id": "768573cc-6476-4968-9cb9-19a01f0c7894",
   "metadata": {
    "execution": {
     "iopub.execute_input": "2024-06-10T16:17:32.579330Z",
     "iopub.status.busy": "2024-06-10T16:17:32.578670Z",
     "iopub.status.idle": "2024-06-10T16:17:32.582448Z",
     "shell.execute_reply": "2024-06-10T16:17:32.581743Z",
     "shell.execute_reply.started": "2024-06-10T16:17:32.579303Z"
    }
   },
   "source": [
    "y = 2*x, so x = 0.5*y"
   ]
  },
  {
   "cell_type": "markdown",
   "id": "0e428f2f-f47e-4712-b324-626f7363f2a9",
   "metadata": {},
   "source": [
    "(f) In R, show that when regression is performed with an intercept, the t-statistic for H0 : β1 = 0 is the same for the regression of y onto x as it is for the regression of x onto y."
   ]
  },
  {
   "cell_type": "code",
   "execution_count": 6,
   "id": "0e574a18-dd08-4382-a252-d8f637138544",
   "metadata": {
    "execution": {
     "iopub.execute_input": "2024-06-11T08:29:42.596599Z",
     "iopub.status.busy": "2024-06-11T08:29:42.596023Z",
     "iopub.status.idle": "2024-06-11T08:29:42.643866Z",
     "shell.execute_reply": "2024-06-11T08:29:42.643183Z",
     "shell.execute_reply.started": "2024-06-11T08:29:42.596568Z"
    }
   },
   "outputs": [
    {
     "name": "stdout",
     "output_type": "stream",
     "text": [
      "                            OLS Regression Results                            \n",
      "==============================================================================\n",
      "Dep. Variable:                      y   R-squared:                       0.741\n",
      "Model:                            OLS   Adj. R-squared:                  0.738\n",
      "Method:                 Least Squares   F-statistic:                     280.0\n",
      "Date:                Tue, 11 Jun 2024   Prob (F-statistic):           1.74e-30\n",
      "Time:                        10:29:42   Log-Likelihood:                -141.06\n",
      "No. Observations:                 100   AIC:                             286.1\n",
      "Df Residuals:                      98   BIC:                             291.3\n",
      "Df Model:                           1                                         \n",
      "Covariance Type:            nonrobust                                         \n",
      "==============================================================================\n",
      "                 coef    std err          t      P>|t|      [0.025      0.975]\n",
      "------------------------------------------------------------------------------\n",
      "intercept     -0.0760      0.101     -0.756      0.451      -0.276       0.124\n",
      "x              1.9686      0.118     16.734      0.000       1.735       2.202\n",
      "==============================================================================\n",
      "Omnibus:                        1.277   Durbin-Watson:                   2.198\n",
      "Prob(Omnibus):                  0.528   Jarque-Bera (JB):                0.759\n",
      "Skew:                           0.114   Prob(JB):                        0.684\n",
      "Kurtosis:                       3.361   Cond. No.                         1.20\n",
      "==============================================================================\n",
      "\n",
      "Notes:\n",
      "[1] Standard Errors assume that the covariance matrix of the errors is correctly specified.\n"
     ]
    },
    {
     "name": "stderr",
     "output_type": "stream",
     "text": [
      "/opt/anaconda3/envs/islp/lib/python3.11/site-packages/ISLP/models/columns.py:151: FutureWarning: Series.__getitem__ treating keys as positions is deprecated. In a future version, integer keys will always be treated as labels (consistent with DataFrame behavior). To access a value by position, use `ser.iloc[pos]`\n",
      "  if is_categorical[i]:\n"
     ]
    }
   ],
   "source": [
    "X = MS('x').fit_transform(pd.DataFrame({'x': x}))\n",
    "model3 = sm.OLS(y, X)\n",
    "results3 = model3.fit()\n",
    "\n",
    "print(results3.summary())"
   ]
  },
  {
   "cell_type": "code",
   "execution_count": 7,
   "id": "3e90d653-4140-4c04-8b13-aff72d7eb48a",
   "metadata": {
    "execution": {
     "iopub.execute_input": "2024-06-11T08:29:42.646124Z",
     "iopub.status.busy": "2024-06-11T08:29:42.645314Z",
     "iopub.status.idle": "2024-06-11T08:29:42.672884Z",
     "shell.execute_reply": "2024-06-11T08:29:42.671858Z",
     "shell.execute_reply.started": "2024-06-11T08:29:42.646085Z"
    }
   },
   "outputs": [
    {
     "name": "stdout",
     "output_type": "stream",
     "text": [
      "                            OLS Regression Results                            \n",
      "==============================================================================\n",
      "Dep. Variable:                      y   R-squared:                       0.741\n",
      "Model:                            OLS   Adj. R-squared:                  0.738\n",
      "Method:                 Least Squares   F-statistic:                     280.0\n",
      "Date:                Tue, 11 Jun 2024   Prob (F-statistic):           1.74e-30\n",
      "Time:                        10:29:42   Log-Likelihood:                -58.325\n",
      "No. Observations:                 100   AIC:                             120.6\n",
      "Df Residuals:                      98   BIC:                             125.9\n",
      "Df Model:                           1                                         \n",
      "Covariance Type:            nonrobust                                         \n",
      "==============================================================================\n",
      "                 coef    std err          t      P>|t|      [0.025      0.975]\n",
      "------------------------------------------------------------------------------\n",
      "intercept      0.0095      0.044      0.216      0.829      -0.078       0.097\n",
      "y              0.3763      0.022     16.734      0.000       0.332       0.421\n",
      "==============================================================================\n",
      "Omnibus:                       13.123   Durbin-Watson:                   2.035\n",
      "Prob(Omnibus):                  0.001   Jarque-Bera (JB):               22.501\n",
      "Skew:                          -0.528   Prob(JB):                     1.30e-05\n",
      "Kurtosis:                       5.070   Cond. No.                         1.98\n",
      "==============================================================================\n",
      "\n",
      "Notes:\n",
      "[1] Standard Errors assume that the covariance matrix of the errors is correctly specified.\n"
     ]
    },
    {
     "name": "stderr",
     "output_type": "stream",
     "text": [
      "/opt/anaconda3/envs/islp/lib/python3.11/site-packages/ISLP/models/columns.py:151: FutureWarning: Series.__getitem__ treating keys as positions is deprecated. In a future version, integer keys will always be treated as labels (consistent with DataFrame behavior). To access a value by position, use `ser.iloc[pos]`\n",
      "  if is_categorical[i]:\n"
     ]
    }
   ],
   "source": [
    "Y = MS('y').fit_transform(pd.DataFrame({'y': y}))\n",
    "model4 = sm.OLS(x, Y)\n",
    "results4 = model4.fit()\n",
    "\n",
    "print(results4.summary())"
   ]
  },
  {
   "cell_type": "markdown",
   "id": "6788637e-f627-4f89-b6a7-0ea6078be787",
   "metadata": {},
   "source": [
    "---\n",
    "\n",
    "### Exercise 12\n",
    "\n",
    "This problem involves simple linear regression without an intercept."
   ]
  },
  {
   "cell_type": "markdown",
   "id": "f8022407-9213-43f4-afe3-51978f9f2370",
   "metadata": {},
   "source": [
    "(a) Recall that the coefficient estimate βˆ for the linear regression of Y onto X without an intercept is given by (3.38). Under what circumstance is the coefficient estimate for the regression of X onto Y the same as the coefficient estimate for the regression of Y onto X?"
   ]
  },
  {
   "cell_type": "code",
   "execution_count": 8,
   "id": "560d2fd7-f31b-4d34-9dda-c8f29f8a8328",
   "metadata": {
    "execution": {
     "iopub.execute_input": "2024-06-11T08:29:42.674887Z",
     "iopub.status.busy": "2024-06-11T08:29:42.674293Z",
     "iopub.status.idle": "2024-06-11T08:29:42.762072Z",
     "shell.execute_reply": "2024-06-11T08:29:42.760967Z",
     "shell.execute_reply.started": "2024-06-11T08:29:42.674863Z"
    }
   },
   "outputs": [
    {
     "data": {
      "image/png": "[encoded data removed]",
      "text/plain": [
       "<PIL.PngImagePlugin.PngImageFile image mode=RGBA size=358x88>"
      ]
     },
     "metadata": {},
     "output_type": "display_data"
    }
   ],
   "source": [
    "from PIL import Image\n",
    "from IPython.display import display\n",
    "img = Image.open('../images/3.38.png')\n",
    "display(img)"
   ]
  },
  {
   "cell_type": "markdown",
   "id": "c9d8ca07-eb49-4580-b4b7-19a4d8d4cb7b",
   "metadata": {},
   "source": [
    "The coefficient estimate for the regression of X onto Y the same as the coefficient estimate for the regression of Y onto X when the denominator is the same (sum of x^2 == sum of y^2)"
   ]
  },
  {
   "cell_type": "markdown",
   "id": "49c00164-8c42-49a9-ba15-1721cd20cf60",
   "metadata": {},
   "source": [
    "(b) Generate an example in Python with n = 100 observations in which the coefficient estimate for the regression of X onto Y is different from the coefficient estimate for the regression of Y onto X."
   ]
  },
  {
   "cell_type": "code",
   "execution_count": 9,
   "id": "da330158-9aac-494b-8005-45fce69ef61e",
   "metadata": {
    "execution": {
     "iopub.execute_input": "2024-06-11T08:29:42.765131Z",
     "iopub.status.busy": "2024-06-11T08:29:42.764800Z",
     "iopub.status.idle": "2024-06-11T08:29:42.792362Z",
     "shell.execute_reply": "2024-06-11T08:29:42.791290Z",
     "shell.execute_reply.started": "2024-06-11T08:29:42.765102Z"
    }
   },
   "outputs": [
    {
     "name": "stdout",
     "output_type": "stream",
     "text": [
      "                                 OLS Regression Results                                \n",
      "=======================================================================================\n",
      "Dep. Variable:                      y   R-squared (uncentered):                   1.000\n",
      "Model:                            OLS   Adj. R-squared (uncentered):              1.000\n",
      "Method:                 Least Squares   F-statistic:                          3.638e+33\n",
      "Date:                Tue, 11 Jun 2024   Prob (F-statistic):                        0.00\n",
      "Time:                        10:29:42   Log-Likelihood:                          3155.7\n",
      "No. Observations:                 100   AIC:                                     -6309.\n",
      "Df Residuals:                      99   BIC:                                     -6307.\n",
      "Df Model:                           1                                                  \n",
      "Covariance Type:            nonrobust                                                  \n",
      "==============================================================================\n",
      "                 coef    std err          t      P>|t|      [0.025      0.975]\n",
      "------------------------------------------------------------------------------\n",
      "x1             0.5000   8.29e-18   6.03e+16      0.000       0.500       0.500\n",
      "==============================================================================\n",
      "Omnibus:                      135.702   Durbin-Watson:                   0.007\n",
      "Prob(Omnibus):                  0.000   Jarque-Bera (JB):                8.803\n",
      "Skew:                           0.072   Prob(JB):                       0.0123\n",
      "Kurtosis:                       1.554   Cond. No.                         1.00\n",
      "==============================================================================\n",
      "\n",
      "Notes:\n",
      "[1] R² is computed without centering (uncentered) since the model does not contain a constant.\n",
      "[2] Standard Errors assume that the covariance matrix of the errors is correctly specified.\n",
      "                                 OLS Regression Results                                \n",
      "=======================================================================================\n",
      "Dep. Variable:                      y   R-squared (uncentered):                   1.000\n",
      "Model:                            OLS   Adj. R-squared (uncentered):              1.000\n",
      "Method:                 Least Squares   F-statistic:                          3.638e+33\n",
      "Date:                Tue, 11 Jun 2024   Prob (F-statistic):                        0.00\n",
      "Time:                        10:29:42   Log-Likelihood:                          3086.4\n",
      "No. Observations:                 100   AIC:                                     -6171.\n",
      "Df Residuals:                      99   BIC:                                     -6168.\n",
      "Df Model:                           1                                                  \n",
      "Covariance Type:            nonrobust                                                  \n",
      "==============================================================================\n",
      "                 coef    std err          t      P>|t|      [0.025      0.975]\n",
      "------------------------------------------------------------------------------\n",
      "x1             2.0000   3.32e-17   6.03e+16      0.000       2.000       2.000\n",
      "==============================================================================\n",
      "Omnibus:                      135.702   Durbin-Watson:                   0.007\n",
      "Prob(Omnibus):                  0.000   Jarque-Bera (JB):                8.803\n",
      "Skew:                           0.072   Prob(JB):                       0.0123\n",
      "Kurtosis:                       1.554   Cond. No.                         1.00\n",
      "==============================================================================\n",
      "\n",
      "Notes:\n",
      "[1] R² is computed without centering (uncentered) since the model does not contain a constant.\n",
      "[2] Standard Errors assume that the covariance matrix of the errors is correctly specified.\n"
     ]
    }
   ],
   "source": [
    "x = np.linspace(0, 100.0, 100)\n",
    "y = np.linspace(0, 50.0, 100)\n",
    "\n",
    "model1 = sm.OLS(y, x)\n",
    "results1 = model1.fit()\n",
    "\n",
    "model2 = sm.OLS(x, y)\n",
    "results2 = model2.fit()\n",
    "\n",
    "print(results1.summary())\n",
    "print(results2.summary())"
   ]
  },
  {
   "cell_type": "code",
   "execution_count": null,
   "id": "bf9d5396-e83f-47fe-a13e-be9ff8ef69a6",
   "metadata": {},
   "outputs": [],
   "source": []
  },
  {
   "cell_type": "markdown",
   "id": "14cddbd6-1eef-4ff9-a4f2-caca621f066e",
   "metadata": {},
   "source": [
    "(c) Generate an example in Python with n = 100 observations in which the coefficient estimate for the regression of X onto Y is the same as the coefficient estimate for the regression of Y onto X."
   ]
  },
  {
   "cell_type": "code",
   "execution_count": 10,
   "id": "d9547c0f-b536-4441-a044-95160c7ef25f",
   "metadata": {
    "execution": {
     "iopub.execute_input": "2024-06-11T08:29:43.055246Z",
     "iopub.status.busy": "2024-06-11T08:29:43.054564Z",
     "iopub.status.idle": "2024-06-11T08:29:43.079094Z",
     "shell.execute_reply": "2024-06-11T08:29:43.078397Z",
     "shell.execute_reply.started": "2024-06-11T08:29:43.055221Z"
    }
   },
   "outputs": [
    {
     "name": "stdout",
     "output_type": "stream",
     "text": [
      "                                 OLS Regression Results                                \n",
      "=======================================================================================\n",
      "Dep. Variable:                      y   R-squared (uncentered):                   0.243\n",
      "Model:                            OLS   Adj. R-squared (uncentered):              0.235\n",
      "Method:                 Least Squares   F-statistic:                              31.70\n",
      "Date:                Tue, 11 Jun 2024   Prob (F-statistic):                    1.69e-07\n",
      "Time:                        10:29:43   Log-Likelihood:                         -533.84\n",
      "No. Observations:                 100   AIC:                                      1070.\n",
      "Df Residuals:                      99   BIC:                                      1072.\n",
      "Df Model:                           1                                                  \n",
      "Covariance Type:            nonrobust                                                  \n",
      "==============================================================================\n",
      "                 coef    std err          t      P>|t|      [0.025      0.975]\n",
      "------------------------------------------------------------------------------\n",
      "x1             0.4925      0.087      5.630      0.000       0.319       0.666\n",
      "==============================================================================\n",
      "Omnibus:                       33.630   Durbin-Watson:                   0.001\n",
      "Prob(Omnibus):                  0.000   Jarque-Bera (JB):                6.002\n",
      "Skew:                           0.000   Prob(JB):                       0.0497\n",
      "Kurtosis:                       1.800   Cond. No.                         1.00\n",
      "==============================================================================\n",
      "\n",
      "Notes:\n",
      "[1] R² is computed without centering (uncentered) since the model does not contain a constant.\n",
      "[2] Standard Errors assume that the covariance matrix of the errors is correctly specified.\n",
      "                                 OLS Regression Results                                \n",
      "=======================================================================================\n",
      "Dep. Variable:                      y   R-squared (uncentered):                   0.243\n",
      "Model:                            OLS   Adj. R-squared (uncentered):              0.235\n",
      "Method:                 Least Squares   F-statistic:                              31.70\n",
      "Date:                Tue, 11 Jun 2024   Prob (F-statistic):                    1.69e-07\n",
      "Time:                        10:29:43   Log-Likelihood:                         -533.84\n",
      "No. Observations:                 100   AIC:                                      1070.\n",
      "Df Residuals:                      99   BIC:                                      1072.\n",
      "Df Model:                           1                                                  \n",
      "Covariance Type:            nonrobust                                                  \n",
      "==============================================================================\n",
      "                 coef    std err          t      P>|t|      [0.025      0.975]\n",
      "------------------------------------------------------------------------------\n",
      "x1             0.4925      0.087      5.630      0.000       0.319       0.666\n",
      "==============================================================================\n",
      "Omnibus:                       33.630   Durbin-Watson:                   0.001\n",
      "Prob(Omnibus):                  0.000   Jarque-Bera (JB):                6.002\n",
      "Skew:                           0.000   Prob(JB):                       0.0497\n",
      "Kurtosis:                       1.800   Cond. No.                         1.00\n",
      "==============================================================================\n",
      "\n",
      "Notes:\n",
      "[1] R² is computed without centering (uncentered) since the model does not contain a constant.\n",
      "[2] Standard Errors assume that the covariance matrix of the errors is correctly specified.\n"
     ]
    }
   ],
   "source": [
    "x = np.linspace(0, 100.0, 100)\n",
    "y = np.linspace(100, 0, 100)\n",
    "\n",
    "model1 = sm.OLS(y, x)\n",
    "results1 = model1.fit()\n",
    "\n",
    "model2 = sm.OLS(x, y)\n",
    "results2 = model2.fit()\n",
    "\n",
    "print(results1.summary())\n",
    "print(results2.summary())\n"
   ]
  },
  {
   "cell_type": "markdown",
   "id": "ab928b01-0ed3-4b4f-9bc4-4502374feade",
   "metadata": {
    "execution": {
     "iopub.execute_input": "2024-06-10T19:35:17.913003Z",
     "iopub.status.busy": "2024-06-10T19:35:17.912563Z",
     "iopub.status.idle": "2024-06-10T19:35:17.918208Z",
     "shell.execute_reply": "2024-06-10T19:35:17.917037Z",
     "shell.execute_reply.started": "2024-06-10T19:35:17.912976Z"
    }
   },
   "source": [
    "--- \n",
    "\n",
    "### Exercise 13\n",
    "\n",
    "In this exercise you will create some simulated data and will fit simple linear regression models to it. Make sure to use the default random number generator with seed set to 1 prior to starting part (a) to ensure consistent results.m\n"
   ]
  },
  {
   "cell_type": "markdown",
   "id": "cd6e6bae-0e00-4cf6-9319-528da786df51",
   "metadata": {},
   "source": [
    "(a) Using the normal() method of your random number generator, create a vector, x, containing 100 observations drawn from a N(0,1) distribution. This represents a feature, X."
   ]
  },
  {
   "cell_type": "code",
   "execution_count": 11,
   "id": "27525f90-1f5f-432a-9cbe-9a5b0e482479",
   "metadata": {
    "execution": {
     "iopub.execute_input": "2024-06-11T08:29:43.444716Z",
     "iopub.status.busy": "2024-06-11T08:29:43.444065Z",
     "iopub.status.idle": "2024-06-11T08:29:43.450691Z",
     "shell.execute_reply": "2024-06-11T08:29:43.449965Z",
     "shell.execute_reply.started": "2024-06-11T08:29:43.444686Z"
    }
   },
   "outputs": [],
   "source": [
    "rng = np.random.default_rng(1)\n",
    "x = rng.normal(0, 1, 100)\n"
   ]
  },
  {
   "cell_type": "markdown",
   "id": "4ac0dfa6-9fd5-4ffb-bdb0-8fd4dd208b1a",
   "metadata": {},
   "source": [
    "(b) Using the normal() method, create a vector, eps, containing 100 observations drawn from a N(0,0.25) distribution—a normal distribution with mean zero and variance 0.25."
   ]
  },
  {
   "cell_type": "code",
   "execution_count": 12,
   "id": "80e8aeb1-f9dc-4bfc-9efc-441d0feb6cdd",
   "metadata": {
    "execution": {
     "iopub.execute_input": "2024-06-11T08:29:43.707894Z",
     "iopub.status.busy": "2024-06-11T08:29:43.707225Z",
     "iopub.status.idle": "2024-06-11T08:29:43.711441Z",
     "shell.execute_reply": "2024-06-11T08:29:43.710627Z",
     "shell.execute_reply.started": "2024-06-11T08:29:43.707863Z"
    }
   },
   "outputs": [],
   "source": [
    "eps = rng.normal(0, 0.5, 100)"
   ]
  },
  {
   "cell_type": "markdown",
   "id": "3e91e97e-760a-4782-acee-04a5a90eae7e",
   "metadata": {},
   "source": [
    "(c) Using x and eps, generate a vector y according to the model\n",
    "Y =−1+0.5X+ε. (3.39)\n",
    "What is the length of the vector y? What are the values of β0 and β1 in this linear model?"
   ]
  },
  {
   "cell_type": "code",
   "execution_count": 13,
   "id": "79b2620a-babd-4201-bf9d-8b4bd510e696",
   "metadata": {
    "execution": {
     "iopub.execute_input": "2024-06-11T08:29:43.985003Z",
     "iopub.status.busy": "2024-06-11T08:29:43.984647Z",
     "iopub.status.idle": "2024-06-11T08:29:43.990629Z",
     "shell.execute_reply": "2024-06-11T08:29:43.989632Z",
     "shell.execute_reply.started": "2024-06-11T08:29:43.984978Z"
    }
   },
   "outputs": [
    {
     "data": {
      "text/plain": [
       "100"
      ]
     },
     "execution_count": 13,
     "metadata": {},
     "output_type": "execute_result"
    }
   ],
   "source": [
    "Y = -1 + 0.5*x + eps\n",
    "len(Y)"
   ]
  },
  {
   "cell_type": "markdown",
   "id": "b1541edd-4af8-438e-ae4a-e49d2f4c0a0c",
   "metadata": {},
   "source": [
    "b0 == -1 and b1 == 0.5"
   ]
  },
  {
   "cell_type": "markdown",
   "id": "370ea317-d62e-4e41-88a7-b364d42e7044",
   "metadata": {},
   "source": [
    "(d) Create a scatterplot displaying the relationship between x and y. Comment on what you observe."
   ]
  },
  {
   "cell_type": "code",
   "execution_count": 14,
   "id": "69de335d-2fc1-4a76-b120-9403cb7e07c0",
   "metadata": {
    "execution": {
     "iopub.execute_input": "2024-06-11T08:29:44.366128Z",
     "iopub.status.busy": "2024-06-11T08:29:44.365525Z",
     "iopub.status.idle": "2024-06-11T08:29:45.071162Z",
     "shell.execute_reply": "2024-06-11T08:29:45.070434Z",
     "shell.execute_reply.started": "2024-06-11T08:29:44.366103Z"
    }
   },
   "outputs": [
    {
     "data": {
      "text/plain": [
       "<Axes: >"
      ]
     },
     "execution_count": 14,
     "metadata": {},
     "output_type": "execute_result"
    },
    {
     "data": {
      "image/png": "[encoded data removed]",
      "text/plain": [
       "<Figure size 640x480 with 1 Axes>"
      ]
     },
     "metadata": {},
     "output_type": "display_data"
    }
   ],
   "source": [
    "import seaborn as sns\n",
    "\n",
    "sns.scatterplot(x=x, y=Y)"
   ]
  },
  {
   "cell_type": "markdown",
   "id": "cb21d6ee-36aa-42b1-a43d-294046f30bd3",
   "metadata": {},
   "source": [
    "(e) Fit a least squares linear model to predict y using x. Comment on the model obtained. How do βˆ0 and βˆ1 compare to β0 and β1?"
   ]
  },
  {
   "cell_type": "code",
   "execution_count": 15,
   "id": "c9d54a0d-3766-485a-9d93-2fde358876a1",
   "metadata": {
    "execution": {
     "iopub.execute_input": "2024-06-11T08:29:45.073173Z",
     "iopub.status.busy": "2024-06-11T08:29:45.072772Z",
     "iopub.status.idle": "2024-06-11T08:29:45.094274Z",
     "shell.execute_reply": "2024-06-11T08:29:45.093541Z",
     "shell.execute_reply.started": "2024-06-11T08:29:45.073151Z"
    }
   },
   "outputs": [
    {
     "name": "stdout",
     "output_type": "stream",
     "text": [
      "                            OLS Regression Results                            \n",
      "==============================================================================\n",
      "Dep. Variable:                      y   R-squared:                       0.409\n",
      "Model:                            OLS   Adj. R-squared:                  0.403\n",
      "Method:                 Least Squares   F-statistic:                     67.79\n",
      "Date:                Tue, 11 Jun 2024   Prob (F-statistic):           8.04e-13\n",
      "Time:                        10:29:45   Log-Likelihood:                -71.745\n",
      "No. Observations:                 100   AIC:                             147.5\n",
      "Df Residuals:                      98   BIC:                             152.7\n",
      "Df Model:                           1                                         \n",
      "Covariance Type:            nonrobust                                         \n",
      "==============================================================================\n",
      "                 coef    std err          t      P>|t|      [0.025      0.975]\n",
      "------------------------------------------------------------------------------\n",
      "intercept     -1.0380      0.050    -20.647      0.000      -1.138      -0.938\n",
      "x              0.4843      0.059      8.233      0.000       0.368       0.601\n",
      "==============================================================================\n",
      "Omnibus:                        1.277   Durbin-Watson:                   2.198\n",
      "Prob(Omnibus):                  0.528   Jarque-Bera (JB):                0.759\n",
      "Skew:                           0.114   Prob(JB):                        0.684\n",
      "Kurtosis:                       3.361   Cond. No.                         1.20\n",
      "==============================================================================\n",
      "\n",
      "Notes:\n",
      "[1] Standard Errors assume that the covariance matrix of the errors is correctly specified.\n"
     ]
    },
    {
     "name": "stderr",
     "output_type": "stream",
     "text": [
      "/opt/anaconda3/envs/islp/lib/python3.11/site-packages/ISLP/models/columns.py:151: FutureWarning: Series.__getitem__ treating keys as positions is deprecated. In a future version, integer keys will always be treated as labels (consistent with DataFrame behavior). To access a value by position, use `ser.iloc[pos]`\n",
      "  if is_categorical[i]:\n"
     ]
    }
   ],
   "source": [
    "X = MS('x').fit_transform(pd.DataFrame({'x': x}))\n",
    "\n",
    "model = sm.OLS(Y, X)\n",
    "results = model.fit()\n",
    "\n",
    "print(results.summary())"
   ]
  },
  {
   "cell_type": "markdown",
   "id": "391b7f04-ffb1-4a52-a9f3-8e1bfb89df8b",
   "metadata": {
    "execution": {
     "iopub.execute_input": "2024-06-10T20:05:01.566385Z",
     "iopub.status.busy": "2024-06-10T20:05:01.566027Z",
     "iopub.status.idle": "2024-06-10T20:05:01.571561Z",
     "shell.execute_reply": "2024-06-10T20:05:01.570363Z",
     "shell.execute_reply.started": "2024-06-10T20:05:01.566363Z"
    }
   },
   "source": [
    "The linear model manages to find very close estimator of the original Bs."
   ]
  },
  {
   "cell_type": "markdown",
   "id": "9a734d15-87f8-4db3-ad4e-9912482d6b05",
   "metadata": {},
   "source": [
    "(f) Display the least squares line on the scatterplot obtained in (d). Draw the population regression line on the plot, in a different color. Use the legend() method of the axes to create an appropriate legend."
   ]
  },
  {
   "cell_type": "code",
   "execution_count": 16,
   "id": "4123dcb3-e711-4b40-bd2c-8075eb6a2705",
   "metadata": {
    "execution": {
     "iopub.execute_input": "2024-06-11T08:29:45.119829Z",
     "iopub.status.busy": "2024-06-11T08:29:45.119574Z",
     "iopub.status.idle": "2024-06-11T08:29:45.436794Z",
     "shell.execute_reply": "2024-06-11T08:29:45.435943Z",
     "shell.execute_reply.started": "2024-06-11T08:29:45.119808Z"
    }
   },
   "outputs": [
    {
     "data": {
      "text/plain": [
       "<Axes: ylabel='None'>"
      ]
     },
     "execution_count": 16,
     "metadata": {},
     "output_type": "execute_result"
    },
    {
     "data": {
      "image/png": "[encoded data removed]",
      "text/plain": [
       "<Figure size 640x480 with 1 Axes>"
      ]
     },
     "metadata": {},
     "output_type": "display_data"
    }
   ],
   "source": [
    "sns.scatterplot(x=x, y=Y)\n",
    "sns.scatterplot(x=x, y=results.fittedvalues)"
   ]
  },
  {
   "cell_type": "markdown",
   "id": "9a58c9be-d146-4448-86b9-e1b212f23aa8",
   "metadata": {},
   "source": [
    "(g) Now fit a polynomial regression model that predicts y using x and x2. Is there evidence that the quadratic term improves the model fit? Explain your answer."
   ]
  },
  {
   "cell_type": "code",
   "execution_count": 17,
   "id": "43227ccc-b83f-457c-8821-f8dbfdf46979",
   "metadata": {
    "execution": {
     "iopub.execute_input": "2024-06-11T08:29:45.439000Z",
     "iopub.status.busy": "2024-06-11T08:29:45.438360Z",
     "iopub.status.idle": "2024-06-11T08:29:45.464677Z",
     "shell.execute_reply": "2024-06-11T08:29:45.463775Z",
     "shell.execute_reply.started": "2024-06-11T08:29:45.438974Z"
    }
   },
   "outputs": [
    {
     "name": "stdout",
     "output_type": "stream",
     "text": [
      "                            OLS Regression Results                            \n",
      "==============================================================================\n",
      "Dep. Variable:                      y   R-squared:                       0.416\n",
      "Model:                            OLS   Adj. R-squared:                  0.398\n",
      "Method:                 Least Squares   F-statistic:                     22.78\n",
      "Date:                Tue, 11 Jun 2024   Prob (F-statistic):           3.19e-11\n",
      "Time:                        10:29:45   Log-Likelihood:                -71.151\n",
      "No. Observations:                 100   AIC:                             150.3\n",
      "Df Residuals:                      96   BIC:                             160.7\n",
      "Df Model:                           3                                         \n",
      "Covariance Type:            nonrobust                                         \n",
      "========================================================================================\n",
      "                           coef    std err          t      P>|t|      [0.025      0.975]\n",
      "----------------------------------------------------------------------------------------\n",
      "intercept               -1.0737      0.050    -21.342      0.000      -1.174      -0.974\n",
      "poly(x, degree=3)[0]     4.1240      0.503      8.198      0.000       3.125       5.123\n",
      "poly(x, degree=3)[1]    -0.0261      0.503     -0.052      0.959      -1.025       0.972\n",
      "poly(x, degree=3)[2]    -0.5384      0.503     -1.070      0.287      -1.537       0.460\n",
      "==============================================================================\n",
      "Omnibus:                        0.845   Durbin-Watson:                   2.199\n",
      "Prob(Omnibus):                  0.655   Jarque-Bera (JB):                0.392\n",
      "Skew:                           0.052   Prob(JB):                        0.822\n",
      "Kurtosis:                       3.289   Cond. No.                         10.0\n",
      "==============================================================================\n",
      "\n",
      "Notes:\n",
      "[1] Standard Errors assume that the covariance matrix of the errors is correctly specified.\n"
     ]
    },
    {
     "name": "stderr",
     "output_type": "stream",
     "text": [
      "/opt/anaconda3/envs/islp/lib/python3.11/site-packages/ISLP/models/columns.py:151: FutureWarning: Series.__getitem__ treating keys as positions is deprecated. In a future version, integer keys will always be treated as labels (consistent with DataFrame behavior). To access a value by position, use `ser.iloc[pos]`\n",
      "  if is_categorical[i]:\n"
     ]
    }
   ],
   "source": [
    "X = MS([poly('x', degree=3)]).fit_transform(pd.DataFrame({'x': x}))\n",
    "\n",
    "model = sm.OLS(Y, X)\n",
    "results = model.fit()\n",
    "\n",
    "print(results.summary())"
   ]
  },
  {
   "cell_type": "code",
   "execution_count": 18,
   "id": "a96651ca-4959-4e77-99ed-7d49385e5834",
   "metadata": {
    "execution": {
     "iopub.execute_input": "2024-06-11T08:29:45.521087Z",
     "iopub.status.busy": "2024-06-11T08:29:45.520405Z",
     "iopub.status.idle": "2024-06-11T08:29:45.718747Z",
     "shell.execute_reply": "2024-06-11T08:29:45.717984Z",
     "shell.execute_reply.started": "2024-06-11T08:29:45.521058Z"
    }
   },
   "outputs": [
    {
     "data": {
      "text/plain": [
       "<Axes: ylabel='None'>"
      ]
     },
     "execution_count": 18,
     "metadata": {},
     "output_type": "execute_result"
    },
    {
     "data": {
      "image/png": "[encoded data removed]",
      "text/plain": [
       "<Figure size 640x480 with 1 Axes>"
      ]
     },
     "metadata": {},
     "output_type": "display_data"
    }
   ],
   "source": [
    "sns.scatterplot(x=x, y=Y)\n",
    "sns.scatterplot(x=x, y=results.fittedvalues)"
   ]
  },
  {
   "cell_type": "markdown",
   "id": "48e97b0e-84ef-4a2e-b6c2-fa64bf7bb1a2",
   "metadata": {},
   "source": [
    "The model, with quadratic components just overfits the training data."
   ]
  },
  {
   "cell_type": "markdown",
   "id": "038b90f8-dd14-43ef-a73e-6cb49f0d20a0",
   "metadata": {},
   "source": [
    "(h) Repeat (a)–(f) after modifying the data generation process in such a way that there is less noise in the data. The model (3.39) should remain the same. You can do this by decreasing the variance of the normal distribution used to generate the error term ε in (b). Describe your results."
   ]
  },
  {
   "cell_type": "markdown",
   "id": "d9bda427-efcc-4c1e-9403-e957fd53a1e1",
   "metadata": {},
   "source": [
    "The error drops, the explained variability increases and the quadratic term model seems less impacted."
   ]
  },
  {
   "cell_type": "markdown",
   "id": "7b7b9557-7607-4295-be44-9485c172cb08",
   "metadata": {},
   "source": [
    "(i) Repeat (a)–(f) after modifying the data generation process in such a way that there is more noise in the data. The model (3.39) should remain the same. You can do this by increasing the variance of the normal distribution used to generate the error term ε in (b). Describe your results."
   ]
  },
  {
   "cell_type": "markdown",
   "id": "bd60deb5-f7b2-4a4a-bb83-b39a98ceb47d",
   "metadata": {},
   "source": [
    "The error rises, the explained variability decreases and the quadratic term model seems more impacted.\n"
   ]
  },
  {
   "cell_type": "markdown",
   "id": "e7e1ac6d-cda1-4ec0-a5ca-abebcad55ad3",
   "metadata": {},
   "source": [
    "(j) What are the confidence intervals for β0 and β1 based on the original data set, the noisier data set, and the less noisy data set? Comment on your results."
   ]
  },
  {
   "cell_type": "markdown",
   "id": "fda7e851-2426-4725-8a8e-31c7a51c9ac7",
   "metadata": {},
   "source": [
    "The confidence lintervals of the beta estimators are bigger when the noise is bigger"
   ]
  },
  {
   "cell_type": "markdown",
   "id": "0b4e8d38-289d-4bb0-a968-1b1d41e28593",
   "metadata": {},
   "source": [
    "---\n",
    "\n",
    "### Exercise 14"
   ]
  },
  {
   "cell_type": "markdown",
   "id": "1dd2241f-0004-46af-890b-f5a453d68b53",
   "metadata": {},
   "source": [
    "This problem focuses on the collinearity problem. "
   ]
  },
  {
   "cell_type": "markdown",
   "id": "74cbd5f3-8ecc-4920-8a64-988d851806fc",
   "metadata": {},
   "source": [
    "(a) Perform the following commands in Python:\n",
    "\n",
    "    rng = np.random.default_rng(10)\n",
    "    x1 = rng.uniform(0, 1, size=100)\n",
    "    x2 = 0.5 * x1 + rng.normal(size=100) / 10\n",
    "    y = 2 + 2 * x1 + 0.3 * x2 + rng.normal(size=100)\n",
    "\n",
    "The last line corresponds to creating a linear model in which y is a function of x1 and x2. Write out the form of the linear model. What are the regression coefficients?\n"
   ]
  },
  {
   "cell_type": "code",
   "execution_count": 19,
   "id": "44bfee7d-7b2d-4911-a907-6b916651bd8a",
   "metadata": {
    "execution": {
     "iopub.execute_input": "2024-06-11T08:29:49.177438Z",
     "iopub.status.busy": "2024-06-11T08:29:49.176786Z",
     "iopub.status.idle": "2024-06-11T08:29:49.181864Z",
     "shell.execute_reply": "2024-06-11T08:29:49.181088Z",
     "shell.execute_reply.started": "2024-06-11T08:29:49.177409Z"
    }
   },
   "outputs": [],
   "source": [
    "rng = np.random.default_rng(10)\n",
    "x1 = rng.uniform(0, 1, size=100)\n",
    "x2 = 0.5 * x1 + rng.normal(size=100) / 10\n",
    "y = 2 + 2 * x1 + 0.3 * x2 + rng.normal(size=100)"
   ]
  },
  {
   "cell_type": "markdown",
   "id": "a10507ed-4fb1-4bb8-96dd-674ba7961fe8",
   "metadata": {},
   "source": [
    "The linear model is:\n",
    "\n",
    "    Y_hat = b0 + b1*x1 + b2*x2"
   ]
  },
  {
   "cell_type": "markdown",
   "id": "7291b735-323b-4e04-9b6b-45785742b2a3",
   "metadata": {},
   "source": [
    "(b) What is the correlation between x1 and x2? Create a scatterplot displaying the relationship between the variables."
   ]
  },
  {
   "cell_type": "code",
   "execution_count": 21,
   "id": "53d866e7-b52d-4ff6-889d-75eefa67bfc3",
   "metadata": {
    "execution": {
     "iopub.execute_input": "2024-06-11T08:38:21.249722Z",
     "iopub.status.busy": "2024-06-11T08:38:21.249396Z",
     "iopub.status.idle": "2024-06-11T08:38:21.596192Z",
     "shell.execute_reply": "2024-06-11T08:38:21.595489Z",
     "shell.execute_reply.started": "2024-06-11T08:38:21.249702Z"
    }
   },
   "outputs": [
    {
     "data": {
      "text/plain": [
       "<Axes: >"
      ]
     },
     "execution_count": 21,
     "metadata": {},
     "output_type": "execute_result"
    },
    {
     "data": {
      "image/png": "[encoded data removed]",
      "text/plain": [
       "<Figure size 640x480 with 1 Axes>"
      ]
     },
     "metadata": {},
     "output_type": "display_data"
    }
   ],
   "source": [
    "sns.scatterplot(x=x1, y=x2)"
   ]
  },
  {
   "cell_type": "markdown",
   "id": "118f0cf8-d6b8-46f3-b96b-82c634c6884d",
   "metadata": {},
   "source": [
    "(c) Using this data, fit a least squares regression to predict y using x1 and x2. Describe the results obtained. What are βˆ0, βˆ1, and βˆ2? How do these relate to the true β0, β1, and β2? Can you reject the null hypothesis H0 : β1 = 0? How about the null hypothesis H0 : β2 = 0?"
   ]
  },
  {
   "cell_type": "code",
   "execution_count": 23,
   "id": "db5bea96-f012-46cc-a4cb-550228eea803",
   "metadata": {
    "execution": {
     "iopub.execute_input": "2024-06-11T08:40:52.127510Z",
     "iopub.status.busy": "2024-06-11T08:40:52.127210Z",
     "iopub.status.idle": "2024-06-11T08:40:52.147790Z",
     "shell.execute_reply": "2024-06-11T08:40:52.146942Z",
     "shell.execute_reply.started": "2024-06-11T08:40:52.127490Z"
    }
   },
   "outputs": [
    {
     "name": "stdout",
     "output_type": "stream",
     "text": [
      "                            OLS Regression Results                            \n",
      "==============================================================================\n",
      "Dep. Variable:                      y   R-squared:                       0.291\n",
      "Model:                            OLS   Adj. R-squared:                  0.276\n",
      "Method:                 Least Squares   F-statistic:                     19.89\n",
      "Date:                Tue, 11 Jun 2024   Prob (F-statistic):           5.76e-08\n",
      "Time:                        10:40:52   Log-Likelihood:                -130.62\n",
      "No. Observations:                 100   AIC:                             267.2\n",
      "Df Residuals:                      97   BIC:                             275.1\n",
      "Df Model:                           2                                         \n",
      "Covariance Type:            nonrobust                                         \n",
      "==============================================================================\n",
      "                 coef    std err          t      P>|t|      [0.025      0.975]\n",
      "------------------------------------------------------------------------------\n",
      "intercept      1.9579      0.190     10.319      0.000       1.581       2.334\n",
      "x1             1.6154      0.527      3.065      0.003       0.569       2.661\n",
      "x2             0.9428      0.831      1.134      0.259      -0.707       2.592\n",
      "==============================================================================\n",
      "Omnibus:                        0.051   Durbin-Watson:                   1.964\n",
      "Prob(Omnibus):                  0.975   Jarque-Bera (JB):                0.041\n",
      "Skew:                          -0.036   Prob(JB):                        0.979\n",
      "Kurtosis:                       2.931   Cond. No.                         11.9\n",
      "==============================================================================\n",
      "\n",
      "Notes:\n",
      "[1] Standard Errors assume that the covariance matrix of the errors is correctly specified.\n"
     ]
    },
    {
     "name": "stderr",
     "output_type": "stream",
     "text": [
      "/opt/anaconda3/envs/islp/lib/python3.11/site-packages/ISLP/models/columns.py:151: FutureWarning: Series.__getitem__ treating keys as positions is deprecated. In a future version, integer keys will always be treated as labels (consistent with DataFrame behavior). To access a value by position, use `ser.iloc[pos]`\n",
      "  if is_categorical[i]:\n",
      "/opt/anaconda3/envs/islp/lib/python3.11/site-packages/ISLP/models/columns.py:151: FutureWarning: Series.__getitem__ treating keys as positions is deprecated. In a future version, integer keys will always be treated as labels (consistent with DataFrame behavior). To access a value by position, use `ser.iloc[pos]`\n",
      "  if is_categorical[i]:\n"
     ]
    }
   ],
   "source": [
    "X = MS(['x1', 'x2']).fit_transform(pd.DataFrame({'x1': x1, 'x2': x2}))\n",
    "model = sm.OLS(y, X)\n",
    "results = model.fit()\n",
    "\n",
    "print(results.summary())"
   ]
  },
  {
   "cell_type": "markdown",
   "id": "3db591e4-c37b-4e49-879b-8cac4bb0b854",
   "metadata": {},
   "source": [
    "(d) Now fit a least squares regression to predict y using only x1. Comment on your results. Can you reject the null hypothesis H0 :β1 =0?"
   ]
  },
  {
   "cell_type": "code",
   "execution_count": 24,
   "id": "a5fe2fd3-b81a-49f5-b876-376e39b3330c",
   "metadata": {
    "execution": {
     "iopub.execute_input": "2024-06-11T08:47:28.748029Z",
     "iopub.status.busy": "2024-06-11T08:47:28.747662Z",
     "iopub.status.idle": "2024-06-11T08:47:28.767726Z",
     "shell.execute_reply": "2024-06-11T08:47:28.766655Z",
     "shell.execute_reply.started": "2024-06-11T08:47:28.748008Z"
    }
   },
   "outputs": [
    {
     "name": "stdout",
     "output_type": "stream",
     "text": [
      "                            OLS Regression Results                            \n",
      "==============================================================================\n",
      "Dep. Variable:                      y   R-squared:                       0.281\n",
      "Model:                            OLS   Adj. R-squared:                  0.274\n",
      "Method:                 Least Squares   F-statistic:                     38.39\n",
      "Date:                Tue, 11 Jun 2024   Prob (F-statistic):           1.37e-08\n",
      "Time:                        10:47:28   Log-Likelihood:                -131.28\n",
      "No. Observations:                 100   AIC:                             266.6\n",
      "Df Residuals:                      98   BIC:                             271.8\n",
      "Df Model:                           1                                         \n",
      "Covariance Type:            nonrobust                                         \n",
      "==============================================================================\n",
      "                 coef    std err          t      P>|t|      [0.025      0.975]\n",
      "------------------------------------------------------------------------------\n",
      "intercept      1.9371      0.189     10.242      0.000       1.562       2.312\n",
      "x1             2.0771      0.335      6.196      0.000       1.412       2.742\n",
      "==============================================================================\n",
      "Omnibus:                        0.204   Durbin-Watson:                   1.931\n",
      "Prob(Omnibus):                  0.903   Jarque-Bera (JB):                0.042\n",
      "Skew:                          -0.046   Prob(JB):                        0.979\n",
      "Kurtosis:                       3.038   Cond. No.                         4.65\n",
      "==============================================================================\n",
      "\n",
      "Notes:\n",
      "[1] Standard Errors assume that the covariance matrix of the errors is correctly specified.\n"
     ]
    },
    {
     "name": "stderr",
     "output_type": "stream",
     "text": [
      "/opt/anaconda3/envs/islp/lib/python3.11/site-packages/ISLP/models/columns.py:151: FutureWarning: Series.__getitem__ treating keys as positions is deprecated. In a future version, integer keys will always be treated as labels (consistent with DataFrame behavior). To access a value by position, use `ser.iloc[pos]`\n",
      "  if is_categorical[i]:\n",
      "/opt/anaconda3/envs/islp/lib/python3.11/site-packages/ISLP/models/columns.py:151: FutureWarning: Series.__getitem__ treating keys as positions is deprecated. In a future version, integer keys will always be treated as labels (consistent with DataFrame behavior). To access a value by position, use `ser.iloc[pos]`\n",
      "  if is_categorical[i]:\n"
     ]
    }
   ],
   "source": [
    "X = MS(['x1']).fit_transform(pd.DataFrame({'x1': x1, 'x2': x2}))\n",
    "model = sm.OLS(y, X)\n",
    "results = model.fit()\n",
    "\n",
    "print(results.summary())"
   ]
  },
  {
   "cell_type": "markdown",
   "id": "1540e509-5007-4e0f-91c3-f93218666378",
   "metadata": {},
   "source": [
    "(e) Now fit a least squares regression to predict y using only x2. Comment on your results. Can you reject the null hypothesis H0 :β1 =0?"
   ]
  },
  {
   "cell_type": "code",
   "execution_count": 25,
   "id": "101a9e6d-466d-4ec8-8779-747bc0f74a0e",
   "metadata": {
    "execution": {
     "iopub.execute_input": "2024-06-11T08:47:38.564750Z",
     "iopub.status.busy": "2024-06-11T08:47:38.564460Z",
     "iopub.status.idle": "2024-06-11T08:47:38.582098Z",
     "shell.execute_reply": "2024-06-11T08:47:38.581405Z",
     "shell.execute_reply.started": "2024-06-11T08:47:38.564729Z"
    }
   },
   "outputs": [
    {
     "name": "stdout",
     "output_type": "stream",
     "text": [
      "                            OLS Regression Results                            \n",
      "==============================================================================\n",
      "Dep. Variable:                      y   R-squared:                       0.222\n",
      "Model:                            OLS   Adj. R-squared:                  0.214\n",
      "Method:                 Least Squares   F-statistic:                     27.99\n",
      "Date:                Tue, 11 Jun 2024   Prob (F-statistic):           7.43e-07\n",
      "Time:                        10:47:38   Log-Likelihood:                -135.24\n",
      "No. Observations:                 100   AIC:                             274.5\n",
      "Df Residuals:                      98   BIC:                             279.7\n",
      "Df Model:                           1                                         \n",
      "Covariance Type:            nonrobust                                         \n",
      "==============================================================================\n",
      "                 coef    std err          t      P>|t|      [0.025      0.975]\n",
      "------------------------------------------------------------------------------\n",
      "intercept      2.3239      0.154     15.124      0.000       2.019       2.629\n",
      "x2             2.9103      0.550      5.291      0.000       1.819       4.002\n",
      "==============================================================================\n",
      "Omnibus:                        0.191   Durbin-Watson:                   1.943\n",
      "Prob(Omnibus):                  0.909   Jarque-Bera (JB):                0.373\n",
      "Skew:                          -0.034   Prob(JB):                        0.830\n",
      "Kurtosis:                       2.709   Cond. No.                         6.11\n",
      "==============================================================================\n",
      "\n",
      "Notes:\n",
      "[1] Standard Errors assume that the covariance matrix of the errors is correctly specified.\n"
     ]
    },
    {
     "name": "stderr",
     "output_type": "stream",
     "text": [
      "/opt/anaconda3/envs/islp/lib/python3.11/site-packages/ISLP/models/columns.py:151: FutureWarning: Series.__getitem__ treating keys as positions is deprecated. In a future version, integer keys will always be treated as labels (consistent with DataFrame behavior). To access a value by position, use `ser.iloc[pos]`\n",
      "  if is_categorical[i]:\n",
      "/opt/anaconda3/envs/islp/lib/python3.11/site-packages/ISLP/models/columns.py:151: FutureWarning: Series.__getitem__ treating keys as positions is deprecated. In a future version, integer keys will always be treated as labels (consistent with DataFrame behavior). To access a value by position, use `ser.iloc[pos]`\n",
      "  if is_categorical[i]:\n"
     ]
    }
   ],
   "source": [
    "X = MS(['x2']).fit_transform(pd.DataFrame({'x1': x1, 'x2': x2}))\n",
    "model = sm.OLS(y, X)\n",
    "results = model.fit()\n",
    "\n",
    "print(results.summary())"
   ]
  },
  {
   "cell_type": "markdown",
   "id": "c05cc7ae-e3ef-4e1d-ac59-e808387b0970",
   "metadata": {},
   "source": [
    "(f) Do the results obtained in (c)–(e) contradict each other? Explain your answer."
   ]
  },
  {
   "cell_type": "markdown",
   "id": "4959827d-c6b4-4f3e-8bc7-fd4fccfa7ba6",
   "metadata": {},
   "source": [
    "The results are not contradictory. Since x1 qnd x2 are highly correlated, adding a second varible to the model dont help much. Thats why each variable alone seems very important, but one of them seems useless in the presence of the other one. "
   ]
  },
  {
   "cell_type": "markdown",
   "id": "1b022794-fe8c-4d7c-a947-c5e56d4c3a4b",
   "metadata": {},
   "source": [
    "(g) Suppose we obtain one additional observation, which was unfortunately mismeasured. We use the function np.concatenate() to add this additional observation to each of x1, x2 and y.\n",
    "\n",
    "    x1 = np.concatenate([x1, [0.1]]) \n",
    "    x2 = np.concatenate([x2, [0.8]]) \n",
    "    y = np.concatenate([y, [6]])\n",
    " \n",
    "Re-fit the linear models from (c) to (e) using this new data. What effect does this new observation have on the each of the models? In each model, is this observation an outlier? A high-leverage point? Both? Explain your answers."
   ]
  },
  {
   "cell_type": "code",
   "execution_count": 26,
   "id": "38efdc2b-d60d-415f-b255-a456fc03b739",
   "metadata": {
    "execution": {
     "iopub.execute_input": "2024-06-11T08:50:25.911886Z",
     "iopub.status.busy": "2024-06-11T08:50:25.911306Z",
     "iopub.status.idle": "2024-06-11T08:50:25.915486Z",
     "shell.execute_reply": "2024-06-11T08:50:25.914753Z",
     "shell.execute_reply.started": "2024-06-11T08:50:25.911861Z"
    }
   },
   "outputs": [],
   "source": [
    "x1 = np.concatenate([x1, [0.1]]) \n",
    "x2 = np.concatenate([x2, [0.8]]) \n",
    "y = np.concatenate([y, [6]])"
   ]
  },
  {
   "cell_type": "code",
   "execution_count": 27,
   "id": "175039a9-0dd5-4489-8425-6c59740a0da7",
   "metadata": {
    "execution": {
     "iopub.execute_input": "2024-06-11T08:50:37.990716Z",
     "iopub.status.busy": "2024-06-11T08:50:37.990424Z",
     "iopub.status.idle": "2024-06-11T08:50:38.008698Z",
     "shell.execute_reply": "2024-06-11T08:50:38.007944Z",
     "shell.execute_reply.started": "2024-06-11T08:50:37.990695Z"
    }
   },
   "outputs": [
    {
     "name": "stdout",
     "output_type": "stream",
     "text": [
      "                            OLS Regression Results                            \n",
      "==============================================================================\n",
      "Dep. Variable:                      y   R-squared:                       0.292\n",
      "Model:                            OLS   Adj. R-squared:                  0.277\n",
      "Method:                 Least Squares   F-statistic:                     20.17\n",
      "Date:                Tue, 11 Jun 2024   Prob (F-statistic):           4.60e-08\n",
      "Time:                        10:50:38   Log-Likelihood:                -135.30\n",
      "No. Observations:                 101   AIC:                             276.6\n",
      "Df Residuals:                      98   BIC:                             284.5\n",
      "Df Model:                           2                                         \n",
      "Covariance Type:            nonrobust                                         \n",
      "==============================================================================\n",
      "                 coef    std err          t      P>|t|      [0.025      0.975]\n",
      "------------------------------------------------------------------------------\n",
      "intercept      2.0618      0.192     10.720      0.000       1.680       2.443\n",
      "x1             0.8575      0.466      1.838      0.069      -0.068       1.783\n",
      "x2             2.2663      0.705      3.216      0.002       0.868       3.665\n",
      "==============================================================================\n",
      "Omnibus:                        0.139   Durbin-Watson:                   1.894\n",
      "Prob(Omnibus):                  0.933   Jarque-Bera (JB):                0.320\n",
      "Skew:                           0.013   Prob(JB):                        0.852\n",
      "Kurtosis:                       2.725   Cond. No.                         9.68\n",
      "==============================================================================\n",
      "\n",
      "Notes:\n",
      "[1] Standard Errors assume that the covariance matrix of the errors is correctly specified.\n"
     ]
    },
    {
     "name": "stderr",
     "output_type": "stream",
     "text": [
      "/opt/anaconda3/envs/islp/lib/python3.11/site-packages/ISLP/models/columns.py:151: FutureWarning: Series.__getitem__ treating keys as positions is deprecated. In a future version, integer keys will always be treated as labels (consistent with DataFrame behavior). To access a value by position, use `ser.iloc[pos]`\n",
      "  if is_categorical[i]:\n",
      "/opt/anaconda3/envs/islp/lib/python3.11/site-packages/ISLP/models/columns.py:151: FutureWarning: Series.__getitem__ treating keys as positions is deprecated. In a future version, integer keys will always be treated as labels (consistent with DataFrame behavior). To access a value by position, use `ser.iloc[pos]`\n",
      "  if is_categorical[i]:\n"
     ]
    }
   ],
   "source": [
    "X = MS(['x1','x2']).fit_transform(pd.DataFrame({'x1': x1, 'x2': x2}))\n",
    "model = sm.OLS(y, X)\n",
    "results = model.fit()\n",
    "\n",
    "print(results.summary())"
   ]
  },
  {
   "cell_type": "code",
   "execution_count": 28,
   "id": "db25a784-3a7d-4d6a-bc1c-3e117a615a6a",
   "metadata": {
    "execution": {
     "iopub.execute_input": "2024-06-11T08:52:19.286011Z",
     "iopub.status.busy": "2024-06-11T08:52:19.285480Z",
     "iopub.status.idle": "2024-06-11T08:52:19.445272Z",
     "shell.execute_reply": "2024-06-11T08:52:19.444138Z",
     "shell.execute_reply.started": "2024-06-11T08:52:19.285990Z"
    }
   },
   "outputs": [
    {
     "data": {
      "text/plain": [
       "<Axes: >"
      ]
     },
     "execution_count": 28,
     "metadata": {},
     "output_type": "execute_result"
    },
    {
     "data": {
      "image/png": "[encoded data removed]",
      "text/plain": [
       "<Figure size 640x480 with 1 Axes>"
      ]
     },
     "metadata": {},
     "output_type": "display_data"
    }
   ],
   "source": [
    "sns.scatterplot(x=x1, y=x2)"
   ]
  },
  {
   "cell_type": "code",
   "execution_count": null,
   "id": "9661da50-e9cc-4f8f-aef2-3abeadd61e0e",
   "metadata": {},
   "outputs": [],
   "source": []
  }
 ],
 "metadata": {
  "kernelspec": {
   "display_name": "Python 3 (ipykernel)",
   "language": "python",
   "name": "python3"
  },
  "language_info": {
   "codemirror_mode": {
    "name": "ipython",
    "version": 3
   },
   "file_extension": ".py",
   "mimetype": "text/x-python",
   "name": "python",
   "nbconvert_exporter": "python",
   "pygments_lexer": "ipython3",
   "version": "3.11.9"
  }
 },
 "nbformat": 4,
 "nbformat_minor": 5
}
