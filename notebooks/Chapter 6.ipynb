{
 "cells": [
  {
   "cell_type": "markdown",
   "id": "4a377f18-3b89-4f07-83d1-2aaf04884806",
   "metadata": {},
   "source": [
    "# Chapter 6 Linear Model Selection and Regularization"
   ]
  },
  {
   "cell_type": "code",
   "execution_count": 8,
   "id": "62e62bb2-99bb-4316-ad53-d901e8e915b5",
   "metadata": {
    "execution": {
     "iopub.execute_input": "2024-06-30T15:34:22.632653Z",
     "iopub.status.busy": "2024-06-30T15:34:22.632322Z",
     "iopub.status.idle": "2024-06-30T15:34:26.100071Z",
     "shell.execute_reply": "2024-06-30T15:34:26.099262Z",
     "shell.execute_reply.started": "2024-06-30T15:34:22.632633Z"
    }
   },
   "outputs": [
    {
     "name": "stdout",
     "output_type": "stream",
     "text": [
      "Requirement already satisfied: l0bnb in /opt/anaconda3/envs/islp/lib/python3.11/site-packages (1.0.0)\n",
      "Requirement already satisfied: numpy>=1.18.1 in /opt/anaconda3/envs/islp/lib/python3.11/site-packages (from l0bnb) (1.26.4)\n",
      "Requirement already satisfied: scipy>=1.4.1 in /opt/anaconda3/envs/islp/lib/python3.11/site-packages (from l0bnb) (1.13.1)\n",
      "Requirement already satisfied: numba>=0.53.1 in /opt/anaconda3/envs/islp/lib/python3.11/site-packages (from l0bnb) (0.60.0)\n",
      "Requirement already satisfied: llvmlite<0.44,>=0.43.0dev0 in /opt/anaconda3/envs/islp/lib/python3.11/site-packages (from numba>=0.53.1->l0bnb) (0.43.0)\n"
     ]
    }
   ],
   "source": [
    "import numpy as np\n",
    "import pandas as pd\n",
    "import seaborn as sns\n",
    "import warnings\n",
    "\n",
    "\n",
    "from matplotlib.pyplot import subplots\n",
    "from statsmodels.api import OLS\n",
    "import sklearn.model_selection as skm\n",
    "import sklearn.linear_model as skl\n",
    "from sklearn.preprocessing import StandardScaler\n",
    "from ISLP.models import ModelSpec as MS\n",
    "from functools import partial\n",
    "\n",
    "from sklearn.pipeline import Pipeline\n",
    "from sklearn.decomposition import PCA\n",
    "from sklearn.cross_decomposition import PLSRegression\n",
    "from ISLP.models import \\\n",
    "     (Stepwise,\n",
    "      sklearn_selected,\n",
    "      sklearn_selection_path)\n",
    "!pip install l0bnb\n",
    "from l0bnb import fit_path\n",
    "\n",
    "\n",
    "warnings.filterwarnings('ignore')"
   ]
  },
  {
   "cell_type": "markdown",
   "id": "b7aad1d4-da59-441c-9c88-c0baebb0787e",
   "metadata": {},
   "source": [
    "8. In this exercise, we will generate simulated data, and will then use this data to perform forward and backward stepwise selection.\n",
    "- (a) Create a random number generator and use its normal() method to generate a predictor X of length n = 100, as well as a noise vector ε of length n = 100.\n",
    "- (b) Generate a response vector Y of length n = 100 according to the model\n",
    "Y =β0 +β1X+β2X2 +β3X3 +ε, where β0, β1, β2, and β3 are constants of your choice.\n",
    "- (c) Use forward stepwise selection in order to select a model containing the predictors X, X2, . . . , X10. What is the model obtained according to Cp? Report the coefficients of the model obtained.\n",
    "- (d) Repeat (c), using backwards stepwise selection. How does your answer compare to the results in (c)?\n",
    "- (e) Now fit a lasso model to the simulated data, again using X,X2, . . . , X 10 as predictors. Use cross-validation to select the optimal value of λ. Create plots of the cross-validation error as a function of λ. Report the resulting coefficient estimates, and discuss the results obtained.\n",
    "- (f) Now generate a response vector Y according to the model Y = β0 + β7X7 + ε,\n",
    "and perform forward stepwise selection and the lasso. Discuss the results obtained."
   ]
  },
  {
   "cell_type": "code",
   "execution_count": 23,
   "id": "d1ab1b13-020f-4fd8-9ff2-2bf03bc61c09",
   "metadata": {
    "execution": {
     "iopub.execute_input": "2024-06-30T15:53:04.114404Z",
     "iopub.status.busy": "2024-06-30T15:53:04.114053Z",
     "iopub.status.idle": "2024-06-30T15:53:04.119940Z",
     "shell.execute_reply": "2024-06-30T15:53:04.119291Z",
     "shell.execute_reply.started": "2024-06-30T15:53:04.114382Z"
    }
   },
   "outputs": [],
   "source": [
    "# (a) Create a random number generator and use its normal() method to generate a predictor X of length n = 100, as well as a noise vector ε of length n = 100.\n",
    "\n",
    "rng = np.random.default_rng(42)\n",
    "x1 = rng.normal(12, 2, 100)\n",
    "x2 = rng.normal(-25, 3, 100)\n",
    "x3 = rng.normal(3, 6, 100)\n",
    "x4 = rng.normal(5, 1, 100)\n",
    "x5 = rng.normal(5, 1, 100)\n",
    "x6 = rng.normal(5, 1, 100)\n",
    "x7 = rng.normal(5, 1, 100)\n",
    "x8 = rng.normal(4, 1, 100)\n",
    "x9 = rng.normal(5, 1, 100)\n",
    "x10  = rng.normal(5, 6, 100) \n",
    "e = rng.normal(0, 3, 100)\n"
   ]
  },
  {
   "cell_type": "code",
   "execution_count": 32,
   "id": "a734ff39-b4b0-49c4-afc0-c31a17ff0d27",
   "metadata": {
    "execution": {
     "iopub.execute_input": "2024-06-30T15:53:33.081211Z",
     "iopub.status.busy": "2024-06-30T15:53:33.080674Z",
     "iopub.status.idle": "2024-06-30T15:53:33.084776Z",
     "shell.execute_reply": "2024-06-30T15:53:33.084153Z",
     "shell.execute_reply.started": "2024-06-30T15:53:33.081191Z"
    }
   },
   "outputs": [],
   "source": [
    "# (b) Generate a response vector Y of length n = 100 according to the model Y =β0 +β1X+β2X2 +β3X3 +ε, where β0, β1, β2, and β3 are constants of your choice.\n",
    "\n",
    "b0 = 5\n",
    "b1 = -3\n",
    "b2 = 2\n",
    "b3 = 12\n",
    "\n",
    "Y = b0 + b1*x1 + b2*x2 + b3*x3 + e"
   ]
  },
  {
   "cell_type": "code",
   "execution_count": 33,
   "id": "59da493b-1ae8-454f-995f-cfff1627bd42",
   "metadata": {
    "execution": {
     "iopub.execute_input": "2024-06-30T15:53:33.605226Z",
     "iopub.status.busy": "2024-06-30T15:53:33.604864Z",
     "iopub.status.idle": "2024-06-30T15:53:33.633824Z",
     "shell.execute_reply": "2024-06-30T15:53:33.633214Z",
     "shell.execute_reply.started": "2024-06-30T15:53:33.605199Z"
    }
   },
   "outputs": [],
   "source": [
    "# (c) Use forward stepwise selection in order to select a model containing the predictors X, X2, . . . , X10. What is the model obtained according to Cp? Report the coefficients of the model obtained.\n",
    "\n",
    "X = pd.DataFrame({'x1': x1,\n",
    "                  'x2': x2,\n",
    "                  'x3': x3,\n",
    "                  'x4': x4,\n",
    "                  'x5': x5,\n",
    "                  'x6': x6,\n",
    "                  'x7': x7,\n",
    "                  'x8': x8,\n",
    "                  'x9': x9,\n",
    "                  'x10': x10\n",
    "                 })\n",
    "\n",
    "def nCp(sigma2, estimator, X, Y):\n",
    "    \"Negative Cp statistic\"\n",
    "    n, p = X.shape\n",
    "    Yhat = estimator.predict(X)\n",
    "    RSS = np.sum((Y - Yhat)**2)\n",
    "    return -(RSS + 2 * p * sigma2) / n \n",
    "\n",
    "# We need to estimate the residual variance, which is the first argument in our scoring function above. We will fit the biggest model, using all the variables, and estimate based on its MSE.\n",
    "\n",
    "design = MS(X).fit(X)\n",
    "Y = np.array(Y)\n",
    "X = design.transform(X)\n",
    "sigma2 = OLS(Y,X).fit().scale\n",
    "\n",
    "neg_Cp = partial(nCp, sigma2)\n",
    "\n",
    "strategy = Stepwise.first_peak(design,\n",
    "                               direction='forward',\n",
    "                               max_terms=len(design.terms))"
   ]
  },
  {
   "cell_type": "code",
   "execution_count": 34,
   "id": "62f2589b-1dcb-4b80-bc62-0631d35c08f6",
   "metadata": {
    "execution": {
     "iopub.execute_input": "2024-06-30T15:53:34.103118Z",
     "iopub.status.busy": "2024-06-30T15:53:34.102495Z",
     "iopub.status.idle": "2024-06-30T15:53:34.625223Z",
     "shell.execute_reply": "2024-06-30T15:53:34.624295Z",
     "shell.execute_reply.started": "2024-06-30T15:53:34.103093Z"
    }
   },
   "outputs": [
    {
     "data": {
      "text/plain": [
       "('x1', 'x10', 'x2', 'x3', 'x4', 'x5', 'x6', 'x7', 'x8', 'x9')"
      ]
     },
     "execution_count": 34,
     "metadata": {},
     "output_type": "execute_result"
    }
   ],
   "source": [
    "MSE = sklearn_selected(OLS, strategy)\n",
    "MSE.fit(X, Y)\n",
    "MSE.selected_state_"
   ]
  },
  {
   "cell_type": "code",
   "execution_count": 35,
   "id": "6aaed215-a1b5-45cc-856a-fe7239502acc",
   "metadata": {
    "execution": {
     "iopub.execute_input": "2024-06-30T15:53:34.627194Z",
     "iopub.status.busy": "2024-06-30T15:53:34.626836Z",
     "iopub.status.idle": "2024-06-30T15:53:34.843979Z",
     "shell.execute_reply": "2024-06-30T15:53:34.843177Z",
     "shell.execute_reply.started": "2024-06-30T15:53:34.627169Z"
    }
   },
   "outputs": [
    {
     "data": {
      "text/plain": [
       "('x1', 'x2', 'x3')"
      ]
     },
     "execution_count": 35,
     "metadata": {},
     "output_type": "execute_result"
    }
   ],
   "source": [
    "Cp = sklearn_selected(OLS, strategy, scoring=neg_Cp)\n",
    "Cp.fit(X, Y)\n",
    "Cp.selected_state_"
   ]
  },
  {
   "cell_type": "code",
   "execution_count": 41,
   "id": "86c03c23-9755-490c-a42a-8a44e42f4cc2",
   "metadata": {
    "execution": {
     "iopub.execute_input": "2024-06-30T15:57:11.212533Z",
     "iopub.status.busy": "2024-06-30T15:57:11.212036Z",
     "iopub.status.idle": "2024-06-30T15:57:11.543317Z",
     "shell.execute_reply": "2024-06-30T15:57:11.542614Z",
     "shell.execute_reply.started": "2024-06-30T15:57:11.212512Z"
    }
   },
   "outputs": [
    {
     "data": {
      "text/plain": [
       "('x1', 'x2', 'x3')"
      ]
     },
     "execution_count": 41,
     "metadata": {},
     "output_type": "execute_result"
    }
   ],
   "source": [
    "# (d) Repeat (c), using backwards stepwise selection. How does your answer compare to the results in (c)?\n",
    "\n",
    "strategy = Stepwise.first_peak(design,\n",
    "                               direction='backwards',\n",
    "                               max_terms=len(design.terms))\n",
    "\n",
    "Cp = sklearn_selected(OLS, strategy, scoring=neg_Cp)\n",
    "Cp.fit(X, Y)\n",
    "Cp.selected_state_"
   ]
  },
  {
   "cell_type": "code",
   "execution_count": 42,
   "id": "a3bf29b0-f883-4bd5-95a9-143d130cad27",
   "metadata": {
    "execution": {
     "iopub.execute_input": "2024-06-30T15:57:11.562569Z",
     "iopub.status.busy": "2024-06-30T15:57:11.562263Z",
     "iopub.status.idle": "2024-06-30T15:57:11.600230Z",
     "shell.execute_reply": "2024-06-30T15:57:11.599633Z",
     "shell.execute_reply.started": "2024-06-30T15:57:11.562546Z"
    }
   },
   "outputs": [
    {
     "data": {
      "text/plain": [
       "(10, 100)"
      ]
     },
     "execution_count": 42,
     "metadata": {},
     "output_type": "execute_result"
    }
   ],
   "source": [
    "# (e) Now fit a lasso model to the simulated data, again using X,X2, . . . , X 10 as predictors. Use cross-validation to select the optimal value of λ. Create plots of the cross-validation error as a function of λ. Report the resulting coefficient estimates, and discuss the results obtained.\n",
    "\n",
    "D = design.fit_transform(X)\n",
    "D = D.drop('intercept', axis=1)\n",
    "X_ = np.asarray(D)\n",
    "\n",
    "Xs = X_ - X_.mean(0)[None,:]\n",
    "X_scale = X_.std(0)\n",
    "Xs = Xs / X_scale[None,:]\n",
    "lambdas = 10**np.linspace(8, -2, 100) / Y.std()\n",
    "soln_array = skl.ElasticNet.path(Xs,\n",
    "                                 Y,\n",
    "                                 l1_ratio=1.,\n",
    "                                 alphas=lambdas)[1]\n",
    "soln_array.shape\n"
   ]
  },
  {
   "cell_type": "code",
   "execution_count": 43,
   "id": "d7076d53-2847-4b06-b6b0-20a08e5ce85f",
   "metadata": {
    "execution": {
     "iopub.execute_input": "2024-06-30T15:57:12.657006Z",
     "iopub.status.busy": "2024-06-30T15:57:12.656433Z",
     "iopub.status.idle": "2024-06-30T15:57:12.672105Z",
     "shell.execute_reply": "2024-06-30T15:57:12.671478Z",
     "shell.execute_reply.started": "2024-06-30T15:57:12.656982Z"
    }
   },
   "outputs": [
    {
     "data": {
      "text/html": [
       "<div>\n",
       "<style scoped>\n",
       "    .dataframe tbody tr th:only-of-type {\n",
       "        vertical-align: middle;\n",
       "    }\n",
       "\n",
       "    .dataframe tbody tr th {\n",
       "        vertical-align: top;\n",
       "    }\n",
       "\n",
       "    .dataframe thead th {\n",
       "        text-align: right;\n",
       "    }\n",
       "</style>\n",
       "<table border=\"1\" class=\"dataframe\">\n",
       "  <thead>\n",
       "    <tr style=\"text-align: right;\">\n",
       "      <th></th>\n",
       "      <th>x1</th>\n",
       "      <th>x2</th>\n",
       "      <th>x3</th>\n",
       "      <th>x4</th>\n",
       "      <th>x5</th>\n",
       "      <th>x6</th>\n",
       "      <th>x7</th>\n",
       "      <th>x8</th>\n",
       "      <th>x9</th>\n",
       "      <th>x10</th>\n",
       "    </tr>\n",
       "    <tr>\n",
       "      <th>negative log(lambda)</th>\n",
       "      <th></th>\n",
       "      <th></th>\n",
       "      <th></th>\n",
       "      <th></th>\n",
       "      <th></th>\n",
       "      <th></th>\n",
       "      <th></th>\n",
       "      <th></th>\n",
       "      <th></th>\n",
       "      <th></th>\n",
       "    </tr>\n",
       "  </thead>\n",
       "  <tbody>\n",
       "    <tr>\n",
       "      <th>-14.129973</th>\n",
       "      <td>-0.000000</td>\n",
       "      <td>0.000000</td>\n",
       "      <td>0.000000</td>\n",
       "      <td>-0.000000</td>\n",
       "      <td>0.000000</td>\n",
       "      <td>0.000000</td>\n",
       "      <td>-0.000000</td>\n",
       "      <td>-0.000000</td>\n",
       "      <td>-0.000000</td>\n",
       "      <td>0.000000</td>\n",
       "    </tr>\n",
       "    <tr>\n",
       "      <th>-13.897388</th>\n",
       "      <td>-0.000000</td>\n",
       "      <td>0.000000</td>\n",
       "      <td>0.000000</td>\n",
       "      <td>-0.000000</td>\n",
       "      <td>0.000000</td>\n",
       "      <td>0.000000</td>\n",
       "      <td>-0.000000</td>\n",
       "      <td>-0.000000</td>\n",
       "      <td>-0.000000</td>\n",
       "      <td>0.000000</td>\n",
       "    </tr>\n",
       "    <tr>\n",
       "      <th>-13.664804</th>\n",
       "      <td>-0.000000</td>\n",
       "      <td>0.000000</td>\n",
       "      <td>0.000000</td>\n",
       "      <td>-0.000000</td>\n",
       "      <td>0.000000</td>\n",
       "      <td>0.000000</td>\n",
       "      <td>-0.000000</td>\n",
       "      <td>-0.000000</td>\n",
       "      <td>-0.000000</td>\n",
       "      <td>0.000000</td>\n",
       "    </tr>\n",
       "    <tr>\n",
       "      <th>-13.432220</th>\n",
       "      <td>-0.000000</td>\n",
       "      <td>0.000000</td>\n",
       "      <td>0.000000</td>\n",
       "      <td>-0.000000</td>\n",
       "      <td>0.000000</td>\n",
       "      <td>0.000000</td>\n",
       "      <td>-0.000000</td>\n",
       "      <td>-0.000000</td>\n",
       "      <td>-0.000000</td>\n",
       "      <td>0.000000</td>\n",
       "    </tr>\n",
       "    <tr>\n",
       "      <th>-13.199635</th>\n",
       "      <td>-0.000000</td>\n",
       "      <td>0.000000</td>\n",
       "      <td>0.000000</td>\n",
       "      <td>-0.000000</td>\n",
       "      <td>0.000000</td>\n",
       "      <td>0.000000</td>\n",
       "      <td>-0.000000</td>\n",
       "      <td>-0.000000</td>\n",
       "      <td>-0.000000</td>\n",
       "      <td>0.000000</td>\n",
       "    </tr>\n",
       "    <tr>\n",
       "      <th>...</th>\n",
       "      <td>...</td>\n",
       "      <td>...</td>\n",
       "      <td>...</td>\n",
       "      <td>...</td>\n",
       "      <td>...</td>\n",
       "      <td>...</td>\n",
       "      <td>...</td>\n",
       "      <td>...</td>\n",
       "      <td>...</td>\n",
       "      <td>...</td>\n",
       "    </tr>\n",
       "    <tr>\n",
       "      <th>7.965541</th>\n",
       "      <td>-4.817768</td>\n",
       "      <td>5.743051</td>\n",
       "      <td>72.444454</td>\n",
       "      <td>-0.150743</td>\n",
       "      <td>-0.133521</td>\n",
       "      <td>0.253965</td>\n",
       "      <td>0.026427</td>\n",
       "      <td>-0.089114</td>\n",
       "      <td>-0.121681</td>\n",
       "      <td>0.340661</td>\n",
       "    </tr>\n",
       "    <tr>\n",
       "      <th>8.198125</th>\n",
       "      <td>-4.817880</td>\n",
       "      <td>5.743113</td>\n",
       "      <td>72.444532</td>\n",
       "      <td>-0.150807</td>\n",
       "      <td>-0.133678</td>\n",
       "      <td>0.254028</td>\n",
       "      <td>0.026564</td>\n",
       "      <td>-0.089195</td>\n",
       "      <td>-0.121718</td>\n",
       "      <td>0.340703</td>\n",
       "    </tr>\n",
       "    <tr>\n",
       "      <th>8.430710</th>\n",
       "      <td>-4.817969</td>\n",
       "      <td>5.743161</td>\n",
       "      <td>72.444594</td>\n",
       "      <td>-0.150859</td>\n",
       "      <td>-0.133802</td>\n",
       "      <td>0.254078</td>\n",
       "      <td>0.026672</td>\n",
       "      <td>-0.089259</td>\n",
       "      <td>-0.121748</td>\n",
       "      <td>0.340737</td>\n",
       "    </tr>\n",
       "    <tr>\n",
       "      <th>8.663294</th>\n",
       "      <td>-4.818040</td>\n",
       "      <td>5.743200</td>\n",
       "      <td>72.444643</td>\n",
       "      <td>-0.150900</td>\n",
       "      <td>-0.133900</td>\n",
       "      <td>0.254118</td>\n",
       "      <td>0.026758</td>\n",
       "      <td>-0.089310</td>\n",
       "      <td>-0.121771</td>\n",
       "      <td>0.340764</td>\n",
       "    </tr>\n",
       "    <tr>\n",
       "      <th>8.895878</th>\n",
       "      <td>-4.818095</td>\n",
       "      <td>5.743230</td>\n",
       "      <td>72.444682</td>\n",
       "      <td>-0.150932</td>\n",
       "      <td>-0.133978</td>\n",
       "      <td>0.254149</td>\n",
       "      <td>0.026826</td>\n",
       "      <td>-0.089350</td>\n",
       "      <td>-0.121790</td>\n",
       "      <td>0.340785</td>\n",
       "    </tr>\n",
       "  </tbody>\n",
       "</table>\n",
       "<p>100 rows × 10 columns</p>\n",
       "</div>"
      ],
      "text/plain": [
       "                            x1        x2         x3        x4        x5  \\\n",
       "negative log(lambda)                                                      \n",
       "-14.129973           -0.000000  0.000000   0.000000 -0.000000  0.000000   \n",
       "-13.897388           -0.000000  0.000000   0.000000 -0.000000  0.000000   \n",
       "-13.664804           -0.000000  0.000000   0.000000 -0.000000  0.000000   \n",
       "-13.432220           -0.000000  0.000000   0.000000 -0.000000  0.000000   \n",
       "-13.199635           -0.000000  0.000000   0.000000 -0.000000  0.000000   \n",
       "...                        ...       ...        ...       ...       ...   \n",
       " 7.965541            -4.817768  5.743051  72.444454 -0.150743 -0.133521   \n",
       " 8.198125            -4.817880  5.743113  72.444532 -0.150807 -0.133678   \n",
       " 8.430710            -4.817969  5.743161  72.444594 -0.150859 -0.133802   \n",
       " 8.663294            -4.818040  5.743200  72.444643 -0.150900 -0.133900   \n",
       " 8.895878            -4.818095  5.743230  72.444682 -0.150932 -0.133978   \n",
       "\n",
       "                            x6        x7        x8        x9       x10  \n",
       "negative log(lambda)                                                    \n",
       "-14.129973            0.000000 -0.000000 -0.000000 -0.000000  0.000000  \n",
       "-13.897388            0.000000 -0.000000 -0.000000 -0.000000  0.000000  \n",
       "-13.664804            0.000000 -0.000000 -0.000000 -0.000000  0.000000  \n",
       "-13.432220            0.000000 -0.000000 -0.000000 -0.000000  0.000000  \n",
       "-13.199635            0.000000 -0.000000 -0.000000 -0.000000  0.000000  \n",
       "...                        ...       ...       ...       ...       ...  \n",
       " 7.965541             0.253965  0.026427 -0.089114 -0.121681  0.340661  \n",
       " 8.198125             0.254028  0.026564 -0.089195 -0.121718  0.340703  \n",
       " 8.430710             0.254078  0.026672 -0.089259 -0.121748  0.340737  \n",
       " 8.663294             0.254118  0.026758 -0.089310 -0.121771  0.340764  \n",
       " 8.895878             0.254149  0.026826 -0.089350 -0.121790  0.340785  \n",
       "\n",
       "[100 rows x 10 columns]"
      ]
     },
     "execution_count": 43,
     "metadata": {},
     "output_type": "execute_result"
    }
   ],
   "source": [
    "soln_path = pd.DataFrame(soln_array.T,\n",
    "                         columns=D.columns,\n",
    "                         index=-np.log(lambdas))\n",
    "soln_path.index.name = 'negative log(lambda)'\n",
    "soln_path"
   ]
  },
  {
   "cell_type": "code",
   "execution_count": 39,
   "id": "57d469b8-048b-480a-aefe-ccb145571efa",
   "metadata": {
    "execution": {
     "iopub.execute_input": "2024-06-30T15:53:36.115959Z",
     "iopub.status.busy": "2024-06-30T15:53:36.114961Z",
     "iopub.status.idle": "2024-06-30T15:53:36.382051Z",
     "shell.execute_reply": "2024-06-30T15:53:36.380807Z",
     "shell.execute_reply.started": "2024-06-30T15:53:36.115932Z"
    }
   },
   "outputs": [
    {
     "data": {
      "image/png": "[encoded data removed]",
      "text/plain": [
       "<Figure size 800x800 with 1 Axes>"
      ]
     },
     "metadata": {},
     "output_type": "display_data"
    }
   ],
   "source": [
    "path_fig, ax = subplots(figsize=(8,8))\n",
    "soln_path.plot(ax=ax, legend=False)\n",
    "ax.set_xlabel('$-\\log(\\lambda)$', fontsize=20)\n",
    "ax.set_ylabel('Standardized coefficients', fontsize=20)\n",
    "ax.legend(loc='upper left');"
   ]
  },
  {
   "cell_type": "code",
   "execution_count": null,
   "id": "67050027-795d-4b4a-b21c-6330677fb8b7",
   "metadata": {},
   "outputs": [],
   "source": []
  },
  {
   "cell_type": "code",
   "execution_count": null,
   "id": "35c00f4a-4249-4148-89ae-54dda501528b",
   "metadata": {},
   "outputs": [],
   "source": [
    "# (f) Now generate a response vector Y according to the model Y = β0 + β7X7 + ε, and perform forward stepwise selection and the lasso. Discuss the results obtained.\n",
    "\n",
    "\n",
    "\n",
    "\n"
   ]
  },
  {
   "cell_type": "markdown",
   "id": "b51c9ff8-6223-4e68-bbdd-9556f79d3180",
   "metadata": {
    "execution": {
     "iopub.execute_input": "2024-06-27T09:48:54.165135Z",
     "iopub.status.busy": "2024-06-27T09:48:54.164788Z",
     "iopub.status.idle": "2024-06-27T09:48:54.170159Z",
     "shell.execute_reply": "2024-06-27T09:48:54.168989Z",
     "shell.execute_reply.started": "2024-06-27T09:48:54.165108Z"
    }
   },
   "source": [
    "---"
   ]
  },
  {
   "cell_type": "markdown",
   "id": "a5d17404-2d09-4328-ac9f-37e49af5f092",
   "metadata": {},
   "source": [
    "9. In this exercise, we will predict the number of applications received using the other variables in the College data set.\n",
    "- (a) Split the data set into a training set and a test set.\n",
    "- (b) Fit a linear model using least squares on the training set, and report the test error obtained.\n",
    "- (c) Fit a ridge regression model on the training set, with λ chosen by cross-validation. Report the test error obtained.\n",
    "- (d) Fit a lasso model on the training set, with λ chosen by cross- validation. Report the test error obtained, along with the num- ber of non-zero coefficient estimates.\n",
    "- (e) Fit a PCR model on the training set, with M chosen by cross- validation. Report the test error obtained, along with the value of M selected by cross-validation.\n",
    "- f) Fit a PLS model on the training set, with M chosen by cross- validation. Report the test error obtained, along with the value of M selected by cross-validation.\n",
    "- (g) Comment on the results obtained. How accurately can we pre- dict the number of college applications received? Is there much difference among the test errors resulting from these five ap- proaches?"
   ]
  },
  {
   "cell_type": "code",
   "execution_count": null,
   "id": "ded7d8ef-54c5-4546-ac98-6957613ba18a",
   "metadata": {},
   "outputs": [],
   "source": []
  },
  {
   "cell_type": "markdown",
   "id": "b26b2bd3-0444-4192-87c5-da19db13192d",
   "metadata": {
    "execution": {
     "iopub.execute_input": "2024-06-27T09:48:44.503770Z",
     "iopub.status.busy": "2024-06-27T09:48:44.503059Z",
     "iopub.status.idle": "2024-06-27T09:48:44.508475Z",
     "shell.execute_reply": "2024-06-27T09:48:44.507332Z",
     "shell.execute_reply.started": "2024-06-27T09:48:44.503736Z"
    }
   },
   "source": [
    "---"
   ]
  },
  {
   "cell_type": "markdown",
   "id": "2266bde9-4a63-4047-b07c-be40850f39ff",
   "metadata": {},
   "source": [
    "10. We have seen that as the number of features used in a model increases, the training error will necessarily decrease, but the test error may not. We will now explore this in a simulated data set.\n",
    "- (a) Generate a data set with p = 20 features, n = 1,000 observa- tions, and an associated quantitative response vector generated according to the model\n",
    "Y =Xβ+ε,\n",
    "where β has some elements that are exactly equal to zero.\n",
    "- (b) Splityourdatasetintoatrainingsetcontaining100observations and a test set containing 900 observations.\n",
    "- (c) Perform best subset selection on the training set, and plot the training set MSE associated with the best model of each size.\n",
    "- (d) Plot the test set MSE associated with the best model of each size.\n",
    "- (e) For which model size does the test set MSE take on its minimum value? Comment on your results. If it takes on its minimum value for a model containing only an intercept or a model containing all of the features, then play around with the way that you are generating the data in (a) until you come up with a scenario in which the test set MSE is minimized for an intermediate model size.\n",
    "- (f) How does the model at which the test set MSE is minimized compare to the true model used to generate the data? Comment on the coefficient values.􏰡􏰎\n",
    "- (g) Create a plot displaying pj=1(βj − βˆjr)2 for a range of values\n",
    "of r, where βˆjr is the jth coefficient estimate for the best model containing r coefficients. Comment on what you observe. How does this compare to the test MSE plot from (d)?"
   ]
  },
  {
   "cell_type": "code",
   "execution_count": null,
   "id": "ae7bd385-5c8f-42b2-8c41-2980d8753f17",
   "metadata": {},
   "outputs": [],
   "source": []
  },
  {
   "cell_type": "markdown",
   "id": "602b338f-afd9-4aa2-af12-5d719f880fa5",
   "metadata": {},
   "source": [
    "---"
   ]
  },
  {
   "cell_type": "markdown",
   "id": "0fe96c70-f509-47e6-8993-52a3e439ad2b",
   "metadata": {},
   "source": [
    "11. We will now try to predict per capita crime rate in the Boston data set.\n",
    "- (a) Try out some of the regression methods explored in this chapter, such as best subset selection, the lasso, ridge regression, and PCR. Present and discuss results for the approaches that you consider.\n",
    "- (b) Propose a model (or set of models) that seem to perform well on this data set, and justify your answer. Make sure that you are evaluating model performance using validation set error, cross-validation, or some other reasonable alternative, as opposed to using training error.\n",
    "- (c) Does your chosen model involve all of the features in the data set? Why or why not?"
   ]
  },
  {
   "cell_type": "code",
   "execution_count": null,
   "id": "b66ec4d1-14b2-409b-815c-967524204e0e",
   "metadata": {},
   "outputs": [],
   "source": []
  },
  {
   "cell_type": "markdown",
   "id": "35067bf7-fe73-450c-871f-060fa236829b",
   "metadata": {},
   "source": [
    "---"
   ]
  },
  {
   "cell_type": "code",
   "execution_count": null,
   "id": "fcec530b-ad00-4421-a1d9-a1a3a9fbb53a",
   "metadata": {},
   "outputs": [],
   "source": []
  }
 ],
 "metadata": {
  "kernelspec": {
   "display_name": "Python 3 (ipykernel)",
   "language": "python",
   "name": "python3"
  },
  "language_info": {
   "codemirror_mode": {
    "name": "ipython",
    "version": 3
   },
   "file_extension": ".py",
   "mimetype": "text/x-python",
   "name": "python",
   "nbconvert_exporter": "python",
   "pygments_lexer": "ipython3",
   "version": "3.11.9"
  }
 },
 "nbformat": 4,
 "nbformat_minor": 5
}
