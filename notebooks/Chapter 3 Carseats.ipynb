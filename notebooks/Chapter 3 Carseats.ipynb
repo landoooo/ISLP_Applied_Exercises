{
 "cells": [
  {
   "cell_type": "markdown",
   "id": "a6755b1a-9571-444b-8384-2b27346cfdbe",
   "metadata": {
    "execution": {
     "iopub.execute_input": "2024-06-07T19:19:38.255394Z",
     "iopub.status.busy": "2024-06-07T19:19:38.254843Z",
     "iopub.status.idle": "2024-06-07T19:19:38.261020Z",
     "shell.execute_reply": "2024-06-07T19:19:38.260276Z",
     "shell.execute_reply.started": "2024-06-07T19:19:38.255370Z"
    }
   },
   "source": [
    "# Chapter 3 Carseats"
   ]
  },
  {
   "cell_type": "code",
   "execution_count": 8,
   "id": "ec7b2039-d41a-4948-b078-425254234461",
   "metadata": {
    "execution": {
     "iopub.execute_input": "2024-06-10T12:27:54.443001Z",
     "iopub.status.busy": "2024-06-10T12:27:54.441988Z",
     "iopub.status.idle": "2024-06-10T12:27:54.550570Z",
     "shell.execute_reply": "2024-06-10T12:27:54.549972Z",
     "shell.execute_reply.started": "2024-06-10T12:27:54.442950Z"
    }
   },
   "outputs": [
    {
     "data": {
      "text/plain": [
       "Index(['Sales', 'CompPrice', 'Income', 'Advertising', 'Population', 'Price',\n",
       "       'ShelveLoc', 'Age', 'Education', 'Urban', 'US'],\n",
       "      dtype='object')"
      ]
     },
     "execution_count": 8,
     "metadata": {},
     "output_type": "execute_result"
    }
   ],
   "source": [
    "import pandas as pd\n",
    "import seaborn as sns\n",
    "import numpy as np \n",
    "\n",
    "import statsmodels.api as sm\n",
    "from statsmodels.stats import anova\n",
    "\n",
    "from ISLP import load_data\n",
    "from ISLP.models import (ModelSpec as MS, summarize , poly)\n",
    "\n",
    "from matplotlib.pyplot import subplots\n",
    "\n",
    "Carseats = load_data('Carseats')\n",
    "Carseats.columns"
   ]
  },
  {
   "cell_type": "markdown",
   "id": "7386a509-06e6-48b4-b072-6c294b465d9c",
   "metadata": {},
   "source": [
    "This question should be answered using the Carseats data set."
   ]
  },
  {
   "cell_type": "markdown",
   "id": "34dafd65-715c-48e4-9d17-d281ed77c9e1",
   "metadata": {},
   "source": [
    "Sales of Child Car Seats\n",
    "A simulated data set containing sales of child car seats at 400 different stores.\n",
    "\n",
    "- **Sales**: Unit sales (in thousands) at each location\n",
    "- **CompPrice**: Price charged by competitor at each location\n",
    "- **Income**: Community income level (in thousands of dollars)\n",
    "- **Advertising**: Local advertising budget for company at each location (in thousands of dollars)\n",
    "- **Population**: Population size in region (in thousands)\n",
    "- **Price**: Price company charges for car seats at each site\n",
    "- **ShelveLoc**: A factor with levels Bad, Good and Medium indicating the quality of the shelving location for the car seats at each site\n",
    "- **Age**: Average age of the local population\n",
    "- **Education**: Education level at each location\n",
    "- **Urban**: A factor with levels No and Yes to indicate whether the store is in an urban or rural location\n",
    "- **US**: A factor with levels No and Yes to indicate whether the store is in the US or not"
   ]
  },
  {
   "cell_type": "markdown",
   "id": "fe6c22b6-2091-4047-bd77-9c44b1e66c2a",
   "metadata": {},
   "source": [
    "(a) Fit a multiple regression model to predict Sales using Price, Urban, and US."
   ]
  },
  {
   "cell_type": "code",
   "execution_count": 9,
   "id": "4b2a1c7c-54c4-4172-acec-95cf9ec6b5b0",
   "metadata": {
    "execution": {
     "iopub.execute_input": "2024-06-10T12:48:57.978657Z",
     "iopub.status.busy": "2024-06-10T12:48:57.977954Z",
     "iopub.status.idle": "2024-06-10T12:48:57.989768Z",
     "shell.execute_reply": "2024-06-10T12:48:57.988919Z",
     "shell.execute_reply.started": "2024-06-10T12:48:57.978635Z"
    }
   },
   "outputs": [
    {
     "data": {
      "text/html": [
       "<div>\n",
       "<style scoped>\n",
       "    .dataframe tbody tr th:only-of-type {\n",
       "        vertical-align: middle;\n",
       "    }\n",
       "\n",
       "    .dataframe tbody tr th {\n",
       "        vertical-align: top;\n",
       "    }\n",
       "\n",
       "    .dataframe thead th {\n",
       "        text-align: right;\n",
       "    }\n",
       "</style>\n",
       "<table border=\"1\" class=\"dataframe\">\n",
       "  <thead>\n",
       "    <tr style=\"text-align: right;\">\n",
       "      <th></th>\n",
       "      <th>Sales</th>\n",
       "      <th>CompPrice</th>\n",
       "      <th>Income</th>\n",
       "      <th>Advertising</th>\n",
       "      <th>Population</th>\n",
       "      <th>Price</th>\n",
       "      <th>ShelveLoc</th>\n",
       "      <th>Age</th>\n",
       "      <th>Education</th>\n",
       "      <th>Urban</th>\n",
       "      <th>US</th>\n",
       "    </tr>\n",
       "  </thead>\n",
       "  <tbody>\n",
       "    <tr>\n",
       "      <th>0</th>\n",
       "      <td>9.50</td>\n",
       "      <td>138</td>\n",
       "      <td>73</td>\n",
       "      <td>11</td>\n",
       "      <td>276</td>\n",
       "      <td>120</td>\n",
       "      <td>Bad</td>\n",
       "      <td>42</td>\n",
       "      <td>17</td>\n",
       "      <td>Yes</td>\n",
       "      <td>Yes</td>\n",
       "    </tr>\n",
       "    <tr>\n",
       "      <th>1</th>\n",
       "      <td>11.22</td>\n",
       "      <td>111</td>\n",
       "      <td>48</td>\n",
       "      <td>16</td>\n",
       "      <td>260</td>\n",
       "      <td>83</td>\n",
       "      <td>Good</td>\n",
       "      <td>65</td>\n",
       "      <td>10</td>\n",
       "      <td>Yes</td>\n",
       "      <td>Yes</td>\n",
       "    </tr>\n",
       "    <tr>\n",
       "      <th>2</th>\n",
       "      <td>10.06</td>\n",
       "      <td>113</td>\n",
       "      <td>35</td>\n",
       "      <td>10</td>\n",
       "      <td>269</td>\n",
       "      <td>80</td>\n",
       "      <td>Medium</td>\n",
       "      <td>59</td>\n",
       "      <td>12</td>\n",
       "      <td>Yes</td>\n",
       "      <td>Yes</td>\n",
       "    </tr>\n",
       "    <tr>\n",
       "      <th>3</th>\n",
       "      <td>7.40</td>\n",
       "      <td>117</td>\n",
       "      <td>100</td>\n",
       "      <td>4</td>\n",
       "      <td>466</td>\n",
       "      <td>97</td>\n",
       "      <td>Medium</td>\n",
       "      <td>55</td>\n",
       "      <td>14</td>\n",
       "      <td>Yes</td>\n",
       "      <td>Yes</td>\n",
       "    </tr>\n",
       "    <tr>\n",
       "      <th>4</th>\n",
       "      <td>4.15</td>\n",
       "      <td>141</td>\n",
       "      <td>64</td>\n",
       "      <td>3</td>\n",
       "      <td>340</td>\n",
       "      <td>128</td>\n",
       "      <td>Bad</td>\n",
       "      <td>38</td>\n",
       "      <td>13</td>\n",
       "      <td>Yes</td>\n",
       "      <td>No</td>\n",
       "    </tr>\n",
       "  </tbody>\n",
       "</table>\n",
       "</div>"
      ],
      "text/plain": [
       "   Sales  CompPrice  Income  Advertising  Population  Price ShelveLoc  Age   \n",
       "0   9.50        138      73           11         276    120       Bad   42  \\\n",
       "1  11.22        111      48           16         260     83      Good   65   \n",
       "2  10.06        113      35           10         269     80    Medium   59   \n",
       "3   7.40        117     100            4         466     97    Medium   55   \n",
       "4   4.15        141      64            3         340    128       Bad   38   \n",
       "\n",
       "   Education Urban   US  \n",
       "0         17   Yes  Yes  \n",
       "1         10   Yes  Yes  \n",
       "2         12   Yes  Yes  \n",
       "3         14   Yes  Yes  \n",
       "4         13   Yes   No  "
      ]
     },
     "execution_count": 9,
     "metadata": {},
     "output_type": "execute_result"
    }
   ],
   "source": [
    "Carseats.head()"
   ]
  },
  {
   "cell_type": "code",
   "execution_count": 18,
   "id": "89aae6a4-eaf4-4ca0-9ad7-7c3791ab4255",
   "metadata": {
    "execution": {
     "iopub.execute_input": "2024-06-10T13:29:20.856897Z",
     "iopub.status.busy": "2024-06-10T13:29:20.856432Z",
     "iopub.status.idle": "2024-06-10T13:29:20.887997Z",
     "shell.execute_reply": "2024-06-10T13:29:20.887345Z",
     "shell.execute_reply.started": "2024-06-10T13:29:20.856879Z"
    }
   },
   "outputs": [
    {
     "name": "stdout",
     "output_type": "stream",
     "text": [
      "                            OLS Regression Results                            \n",
      "==============================================================================\n",
      "Dep. Variable:                  Sales   R-squared:                       0.239\n",
      "Model:                            OLS   Adj. R-squared:                  0.234\n",
      "Method:                 Least Squares   F-statistic:                     41.52\n",
      "Date:                Mon, 10 Jun 2024   Prob (F-statistic):           2.39e-23\n",
      "Time:                        15:29:20   Log-Likelihood:                -927.66\n",
      "No. Observations:                 400   AIC:                             1863.\n",
      "Df Residuals:                     396   BIC:                             1879.\n",
      "Df Model:                           3                                         \n",
      "Covariance Type:            nonrobust                                         \n",
      "==============================================================================\n",
      "                 coef    std err          t      P>|t|      [0.025      0.975]\n",
      "------------------------------------------------------------------------------\n",
      "intercept     13.0435      0.651     20.036      0.000      11.764      14.323\n",
      "Price         -0.0545      0.005    -10.389      0.000      -0.065      -0.044\n",
      "Urban[Yes]    -0.0219      0.272     -0.081      0.936      -0.556       0.512\n",
      "US[Yes]        1.2006      0.259      4.635      0.000       0.691       1.710\n",
      "==============================================================================\n",
      "Omnibus:                        0.676   Durbin-Watson:                   1.912\n",
      "Prob(Omnibus):                  0.713   Jarque-Bera (JB):                0.758\n",
      "Skew:                           0.093   Prob(JB):                        0.684\n",
      "Kurtosis:                       2.897   Cond. No.                         628.\n",
      "==============================================================================\n",
      "\n",
      "Notes:\n",
      "[1] Standard Errors assume that the covariance matrix of the errors is correctly specified.\n"
     ]
    }
   ],
   "source": [
    "X = MS(['Price', 'Urban', 'US']).fit_transform(Carseats) \n",
    "y = Carseats['Sales']\n",
    "\n",
    "model = sm.OLS(y, X)\n",
    "results = model.fit()\n",
    "\n",
    "print(results.summary())"
   ]
  },
  {
   "cell_type": "markdown",
   "id": "1eb8faaf-12b1-4560-87e5-ebcd1020d9e8",
   "metadata": {},
   "source": [
    "(b) Provide an interpretation of each coefficient in the model. Be careful some of the variables in the model are qualitative!"
   ]
  },
  {
   "cell_type": "markdown",
   "id": "6f9bc1f6-2af6-4480-9229-e32681d5694a",
   "metadata": {
    "execution": {
     "iopub.execute_input": "2024-06-10T13:18:54.465791Z",
     "iopub.status.busy": "2024-06-10T13:18:54.465121Z",
     "iopub.status.idle": "2024-06-10T13:18:54.476866Z",
     "shell.execute_reply": "2024-06-10T13:18:54.475382Z",
     "shell.execute_reply.started": "2024-06-10T13:18:54.465762Z"
    }
   },
   "source": [
    "**Price** has a negative coefficient of -0.0545. It can be read as fir each dolar added to the price, we can expect a drop in sales of 0.0545 (k) units.\n",
    "\n",
    "For shops located in **urban** areas we expect 0.0219 (k) sales less. There is, though, very little proof of this factor to have a statistically significant impact explaining the sales.\n",
    "\n",
    "Shops located in the **US** can expect 1.2006 (k) sales units more."
   ]
  },
  {
   "cell_type": "markdown",
   "id": "39de68bf-a16a-470a-bbd8-80b406e686e7",
   "metadata": {},
   "source": [
    "(c) Write out the model in equation form, being careful to handle the qualitative variables properly."
   ]
  },
  {
   "cell_type": "markdown",
   "id": "766b4b35-8d72-4747-b976-6624f92b71a0",
   "metadata": {},
   "source": [
    "if not urban and not US:\n",
    "\n",
    "    - sales = 13.0435 - (0.0545*price)\n",
    "\n",
    "if urban and not US: \n",
    "\n",
    "    - sales = 13.0435 - (0.0545*price) - 0.0219\n",
    "\n",
    "if not urban and US: \n",
    "\n",
    "    - sales = 13.0435 - (0.0545*price) + 1.2006   \n",
    "\n",
    "if urban and US:\n",
    "\n",
    "    - sales = 13.0435 - (0.0545*price) - 0.0219 + 1.2006  \n"
   ]
  },
  {
   "cell_type": "markdown",
   "id": "7a5f251f-41f5-442e-93c4-e294c25a56c8",
   "metadata": {},
   "source": [
    "(d) For which of the predictors can you reject the null hypothesis H0 :βj =0?"
   ]
  },
  {
   "cell_type": "markdown",
   "id": "94531135-abe4-4a8f-a05d-dae790e0cd48",
   "metadata": {
    "execution": {
     "iopub.execute_input": "2024-06-10T13:26:45.686955Z",
     "iopub.status.busy": "2024-06-10T13:26:45.686340Z",
     "iopub.status.idle": "2024-06-10T13:26:45.691784Z",
     "shell.execute_reply": "2024-06-10T13:26:45.690746Z",
     "shell.execute_reply.started": "2024-06-10T13:26:45.686930Z"
    }
   },
   "source": [
    "Urban. Its p value is very high."
   ]
  },
  {
   "cell_type": "markdown",
   "id": "cf1bdc43-d2e5-4bd1-b03c-865eda489f07",
   "metadata": {},
   "source": [
    "(e) On the basis of your response to the previous question, fit a smaller model that only uses the predictors for which there is evidence of association with the outcome."
   ]
  },
  {
   "cell_type": "code",
   "execution_count": 17,
   "id": "2675dacd-e00f-46d8-83b2-eb9cb296f9a6",
   "metadata": {
    "execution": {
     "iopub.execute_input": "2024-06-10T13:28:52.572599Z",
     "iopub.status.busy": "2024-06-10T13:28:52.572057Z",
     "iopub.status.idle": "2024-06-10T13:28:52.603557Z",
     "shell.execute_reply": "2024-06-10T13:28:52.602672Z",
     "shell.execute_reply.started": "2024-06-10T13:28:52.572576Z"
    }
   },
   "outputs": [
    {
     "name": "stdout",
     "output_type": "stream",
     "text": [
      "                            OLS Regression Results                            \n",
      "==============================================================================\n",
      "Dep. Variable:                  Sales   R-squared:                       0.239\n",
      "Model:                            OLS   Adj. R-squared:                  0.235\n",
      "Method:                 Least Squares   F-statistic:                     62.43\n",
      "Date:                Mon, 10 Jun 2024   Prob (F-statistic):           2.66e-24\n",
      "Time:                        15:28:52   Log-Likelihood:                -927.66\n",
      "No. Observations:                 400   AIC:                             1861.\n",
      "Df Residuals:                     397   BIC:                             1873.\n",
      "Df Model:                           2                                         \n",
      "Covariance Type:            nonrobust                                         \n",
      "==============================================================================\n",
      "                 coef    std err          t      P>|t|      [0.025      0.975]\n",
      "------------------------------------------------------------------------------\n",
      "intercept     13.0308      0.631     20.652      0.000      11.790      14.271\n",
      "Price         -0.0545      0.005    -10.416      0.000      -0.065      -0.044\n",
      "US[Yes]        1.1996      0.258      4.641      0.000       0.692       1.708\n",
      "==============================================================================\n",
      "Omnibus:                        0.666   Durbin-Watson:                   1.912\n",
      "Prob(Omnibus):                  0.717   Jarque-Bera (JB):                0.749\n",
      "Skew:                           0.092   Prob(JB):                        0.688\n",
      "Kurtosis:                       2.895   Cond. No.                         607.\n",
      "==============================================================================\n",
      "\n",
      "Notes:\n",
      "[1] Standard Errors assume that the covariance matrix of the errors is correctly specified.\n"
     ]
    }
   ],
   "source": [
    "X2 = MS(['Price', 'US']).fit_transform(Carseats) \n",
    "y = Carseats['Sales']\n",
    "\n",
    "model2 = sm.OLS(y, X2)\n",
    "results2 = model2.fit()\n",
    "\n",
    "print(results2.summary())"
   ]
  },
  {
   "cell_type": "markdown",
   "id": "f70c755e-3ead-4c99-87d0-c70cbac59c56",
   "metadata": {},
   "source": [
    "(f) How well do the models in (a) and (e) fit the data?"
   ]
  },
  {
   "cell_type": "markdown",
   "id": "1d280891-6cb8-4b43-95ad-6bbca062a26b",
   "metadata": {
    "execution": {
     "iopub.execute_input": "2024-06-10T13:31:45.819259Z",
     "iopub.status.busy": "2024-06-10T13:31:45.818837Z",
     "iopub.status.idle": "2024-06-10T13:31:45.823918Z",
     "shell.execute_reply": "2024-06-10T13:31:45.822981Z",
     "shell.execute_reply.started": "2024-06-10T13:31:45.819238Z"
    }
   },
   "source": [
    "They seem to explain the same amount of variablility (23,9%)"
   ]
  },
  {
   "cell_type": "markdown",
   "id": "84159cdb-249c-4e19-9918-88cda958c53c",
   "metadata": {},
   "source": [
    "(g) Using the model from (e), obtain 95% confidence intervals for the coefficient(s)."
   ]
  },
  {
   "cell_type": "code",
   "execution_count": 21,
   "id": "3cfda91b-e74a-4f22-8714-34498a63e408",
   "metadata": {
    "execution": {
     "iopub.execute_input": "2024-06-10T13:32:27.325417Z",
     "iopub.status.busy": "2024-06-10T13:32:27.324791Z",
     "iopub.status.idle": "2024-06-10T13:32:27.332828Z",
     "shell.execute_reply": "2024-06-10T13:32:27.332036Z",
     "shell.execute_reply.started": "2024-06-10T13:32:27.325399Z"
    }
   },
   "outputs": [
    {
     "data": {
      "text/html": [
       "<div>\n",
       "<style scoped>\n",
       "    .dataframe tbody tr th:only-of-type {\n",
       "        vertical-align: middle;\n",
       "    }\n",
       "\n",
       "    .dataframe tbody tr th {\n",
       "        vertical-align: top;\n",
       "    }\n",
       "\n",
       "    .dataframe thead th {\n",
       "        text-align: right;\n",
       "    }\n",
       "</style>\n",
       "<table border=\"1\" class=\"dataframe\">\n",
       "  <thead>\n",
       "    <tr style=\"text-align: right;\">\n",
       "      <th></th>\n",
       "      <th>0</th>\n",
       "      <th>1</th>\n",
       "    </tr>\n",
       "  </thead>\n",
       "  <tbody>\n",
       "    <tr>\n",
       "      <th>intercept</th>\n",
       "      <td>11.79032</td>\n",
       "      <td>14.271265</td>\n",
       "    </tr>\n",
       "    <tr>\n",
       "      <th>Price</th>\n",
       "      <td>-0.06476</td>\n",
       "      <td>-0.044195</td>\n",
       "    </tr>\n",
       "    <tr>\n",
       "      <th>US[Yes]</th>\n",
       "      <td>0.69152</td>\n",
       "      <td>1.707766</td>\n",
       "    </tr>\n",
       "  </tbody>\n",
       "</table>\n",
       "</div>"
      ],
      "text/plain": [
       "                  0          1\n",
       "intercept  11.79032  14.271265\n",
       "Price      -0.06476  -0.044195\n",
       "US[Yes]     0.69152   1.707766"
      ]
     },
     "execution_count": 21,
     "metadata": {},
     "output_type": "execute_result"
    }
   ],
   "source": [
    "results2.conf_int(0.05)"
   ]
  },
  {
   "cell_type": "markdown",
   "id": "0d34f89d-1fdb-4403-8085-521e56c1c10c",
   "metadata": {},
   "source": [
    "(h) Is there evidence of outliers or high leverage observations in the model from (e)?"
   ]
  },
  {
   "cell_type": "code",
   "execution_count": 22,
   "id": "3193d5d6-b23d-45c5-8676-2b29d197f3e0",
   "metadata": {
    "execution": {
     "iopub.execute_input": "2024-06-10T13:33:47.980446Z",
     "iopub.status.busy": "2024-06-10T13:33:47.980110Z",
     "iopub.status.idle": "2024-06-10T13:33:48.229896Z",
     "shell.execute_reply": "2024-06-10T13:33:48.229156Z",
     "shell.execute_reply.started": "2024-06-10T13:33:47.980425Z"
    }
   },
   "outputs": [
    {
     "data": {
      "image/png": "[encoded data removed]",
      "text/plain": [
       "<Figure size 800x600 with 1 Axes>"
      ]
     },
     "metadata": {},
     "output_type": "display_data"
    }
   ],
   "source": [
    "import matplotlib.pyplot as plt\n",
    "\n",
    "plt.figure(figsize=(8, 6))\n",
    "plt.scatter(results2.fittedvalues, results2.resid)\n",
    "plt.show()"
   ]
  },
  {
   "cell_type": "markdown",
   "id": "e716ce47-6a67-470e-a535-e6235923beba",
   "metadata": {},
   "source": [
    "The fitted vs residuals plot doesnt show any homocedasticity, non linearity, outliers or any other kind of issue."
   ]
  },
  {
   "cell_type": "code",
   "execution_count": null,
   "id": "6c39aa8e-f153-4c7a-a789-8e1166ae960b",
   "metadata": {},
   "outputs": [],
   "source": []
  }
 ],
 "metadata": {
  "kernelspec": {
   "display_name": "Python 3 (ipykernel)",
   "language": "python",
   "name": "python3"
  },
  "language_info": {
   "codemirror_mode": {
    "name": "ipython",
    "version": 3
   },
   "file_extension": ".py",
   "mimetype": "text/x-python",
   "name": "python",
   "nbconvert_exporter": "python",
   "pygments_lexer": "ipython3",
   "version": "3.11.9"
  }
 },
 "nbformat": 4,
 "nbformat_minor": 5
}
